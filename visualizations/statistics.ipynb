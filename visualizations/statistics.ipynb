{
 "cells": [
  {
   "cell_type": "code",
   "execution_count": 1,
   "metadata": {},
   "outputs": [],
   "source": [
    "import cv2\n",
    "import numpy as np\n",
    "import matplotlib.pyplot as plt"
   ]
  },
  {
   "cell_type": "code",
   "execution_count": 2,
   "metadata": {},
   "outputs": [],
   "source": [
    "%load_ext autoreload\n",
    "%autoreload 2"
   ]
  },
  {
   "cell_type": "code",
   "execution_count": 3,
   "metadata": {},
   "outputs": [],
   "source": [
    "import os\n",
    "import sys\n",
    "\n",
    "sys.path.append(os.path.dirname(os.getcwd()))\n",
    "\n",
    "from config import *"
   ]
  },
  {
   "cell_type": "markdown",
   "metadata": {},
   "source": [
    "### Number of cells in one patch"
   ]
  },
  {
   "cell_type": "code",
   "execution_count": 4,
   "metadata": {},
   "outputs": [],
   "source": [
    "names = [f for f in os.listdir(PATCH_MASK_PATH) if f.count('_') < 3]"
   ]
  },
  {
   "cell_type": "code",
   "execution_count": 5,
   "metadata": {},
   "outputs": [],
   "source": [
    "numbers = np.zeros(len(names))\n",
    "\n",
    "for i, name in enumerate(names):\n",
    "    # load patch\n",
    "    patch = cv2.imread(PATCH_MASK_PATH + name, cv2.IMREAD_GRAYSCALE)\n",
    "    # count cells\n",
    "    no_cells, _ = cv2.connectedComponents(patch)\n",
    "    # append the count to the counts array\n",
    "    numbers[i] = no_cells - 1"
   ]
  },
  {
   "cell_type": "code",
   "execution_count": 6,
   "metadata": {},
   "outputs": [
    {
     "data": {
      "text/plain": [
       "{'whiskers': [<matplotlib.lines.Line2D at 0x11c3ea590>,\n",
       "  <matplotlib.lines.Line2D at 0x11c3fa710>],\n",
       " 'caps': [<matplotlib.lines.Line2D at 0x11c3fac10>,\n",
       "  <matplotlib.lines.Line2D at 0x11bd075d0>],\n",
       " 'boxes': [<matplotlib.lines.Line2D at 0x11b4c67d0>],\n",
       " 'medians': [<matplotlib.lines.Line2D at 0x11c406690>],\n",
       " 'fliers': [<matplotlib.lines.Line2D at 0x11c406b90>],\n",
       " 'means': []}"
      ]
     },
     "execution_count": 6,
     "metadata": {},
     "output_type": "execute_result"
    },
    {
     "data": {
      "image/png": "[encoded data removed]",
      "text/plain": [
       "<Figure size 432x288 with 1 Axes>"
      ]
     },
     "metadata": {
      "needs_background": "light"
     },
     "output_type": "display_data"
    }
   ],
   "source": [
    "plt.boxplot(numbers)"
   ]
  },
  {
   "cell_type": "code",
   "execution_count": 7,
   "metadata": {},
   "outputs": [
    {
     "data": {
      "text/plain": [
       "(array([ 12., 127., 254., 207., 107., 157., 108.,  70.,  28.,  13.]),\n",
       " array([ 0. ,  2.2,  4.4,  6.6,  8.8, 11. , 13.2, 15.4, 17.6, 19.8, 22. ]),\n",
       " <a list of 10 Patch objects>)"
      ]
     },
     "execution_count": 7,
     "metadata": {},
     "output_type": "execute_result"
    },
    {
     "data": {
      "image/png": "[encoded data removed]",
      "text/plain": [
       "<Figure size 432x288 with 1 Axes>"
      ]
     },
     "metadata": {
      "needs_background": "light"
     },
     "output_type": "display_data"
    }
   ],
   "source": [
    "plt.hist(numbers)"
   ]
  },
  {
   "cell_type": "code",
   "execution_count": 10,
   "metadata": {},
   "outputs": [
    {
     "data": {
      "text/plain": [
       "<BarContainer object of 23 artists>"
      ]
     },
     "execution_count": 10,
     "metadata": {},
     "output_type": "execute_result"
    },
    {
     "data": {
      "image/png": "[encoded data removed]",
      "text/plain": [
       "<Figure size 432x288 with 1 Axes>"
      ]
     },
     "metadata": {
      "needs_background": "light"
     },
     "output_type": "display_data"
    }
   ],
   "source": [
    "unique, counts = np.unique(numbers, return_counts=True)\n",
    "\n",
    "plt.bar(unique, counts)"
   ]
  },
  {
   "cell_type": "code",
   "execution_count": 11,
   "metadata": {},
   "outputs": [
    {
     "data": {
      "text/plain": [
       "<BarContainer object of 3 artists>"
      ]
     },
     "execution_count": 11,
     "metadata": {},
     "output_type": "execute_result"
    },
    {
     "data": {
      "image/png": "[encoded data removed]",
      "text/plain": [
       "<Figure size 432x288 with 1 Axes>"
      ]
     },
     "metadata": {
      "needs_background": "light"
     },
     "output_type": "display_data"
    }
   ],
   "source": [
    "plt.bar(unique[:3], counts[:3])"
   ]
  },
  {
   "cell_type": "code",
   "execution_count": 12,
   "metadata": {},
   "outputs": [
    {
     "data": {
      "text/plain": [
       "<BarContainer object of 3 artists>"
      ]
     },
     "execution_count": 12,
     "metadata": {},
     "output_type": "execute_result"
    },
    {
     "data": {
      "image/png": "[encoded data removed]",
      "text/plain": [
       "<Figure size 432x288 with 1 Axes>"
      ]
     },
     "metadata": {
      "needs_background": "light"
     },
     "output_type": "display_data"
    }
   ],
   "source": [
    "plt.bar(unique[20:], counts[20:])"
   ]
  },
  {
   "cell_type": "markdown",
   "metadata": {},
   "source": [
    "### Cell areas"
   ]
  },
  {
   "cell_type": "code",
   "execution_count": 14,
   "metadata": {},
   "outputs": [
    {
     "data": {
      "text/plain": [
       "24"
      ]
     },
     "execution_count": 14,
     "metadata": {},
     "output_type": "execute_result"
    }
   ],
   "source": [
    "names = [f for f in os.listdir(TRAIN_MASK_PATH)]\n",
    "len(names)"
   ]
  },
  {
   "cell_type": "code",
   "execution_count": 15,
   "metadata": {},
   "outputs": [],
   "source": [
    "areas = [None] * len(names)\n",
    "\n",
    "for i, name in enumerate(names):\n",
    "    # load patch\n",
    "    patch = cv2.imread(TRAIN_MASK_PATH + name, cv2.IMREAD_GRAYSCALE)\n",
    "    # get contours\n",
    "    contours,hierarchy = cv2.findContours(patch, cv2.RETR_EXTERNAL, cv2.CHAIN_APPROX_NONE )\n",
    "\n",
    "    _areas = []\n",
    "\n",
    "    for contour in contours:\n",
    "        area = cv2.contourArea(contour)\n",
    "        _areas.append(area)\n",
    "\n",
    "    areas[i] = _areas"
   ]
  },
  {
   "cell_type": "code",
   "execution_count": 16,
   "metadata": {},
   "outputs": [
    {
     "data": {
      "text/plain": [
       "{'whiskers': [<matplotlib.lines.Line2D at 0x11c135e50>,\n",
       "  <matplotlib.lines.Line2D at 0x11c1290d0>,\n",
       "  <matplotlib.lines.Line2D at 0x11c140ed0>,\n",
       "  <matplotlib.lines.Line2D at 0x101a8ea50>,\n",
       "  <matplotlib.lines.Line2D at 0x101aa5650>,\n",
       "  <matplotlib.lines.Line2D at 0x101aa5b50>,\n",
       "  <matplotlib.lines.Line2D at 0x101ab4a50>,\n",
       "  <matplotlib.lines.Line2D at 0x101ab4f50>,\n",
       "  <matplotlib.lines.Line2D at 0x101ac6e10>,\n",
       "  <matplotlib.lines.Line2D at 0x101ac6ed0>,\n",
       "  <matplotlib.lines.Line2D at 0x11ccbcd90>,\n",
       "  <matplotlib.lines.Line2D at 0x11ccc4710>,\n",
       "  <matplotlib.lines.Line2D at 0x11ccd7590>,\n",
       "  <matplotlib.lines.Line2D at 0x11ccd7a90>,\n",
       "  <matplotlib.lines.Line2D at 0x11cce9910>,\n",
       "  <matplotlib.lines.Line2D at 0x11cce9e10>,\n",
       "  <matplotlib.lines.Line2D at 0x101ac69d0>,\n",
       "  <matplotlib.lines.Line2D at 0x11ccefdd0>,\n",
       "  <matplotlib.lines.Line2D at 0x11cd0bf10>,\n",
       "  <matplotlib.lines.Line2D at 0x11cd03bd0>,\n",
       "  <matplotlib.lines.Line2D at 0x11cd15ed0>,\n",
       "  <matplotlib.lines.Line2D at 0x11cd257d0>,\n",
       "  <matplotlib.lines.Line2D at 0x11cd36650>,\n",
       "  <matplotlib.lines.Line2D at 0x11cd36b50>,\n",
       "  <matplotlib.lines.Line2D at 0x11cd4b9d0>,\n",
       "  <matplotlib.lines.Line2D at 0x11cd4bed0>,\n",
       "  <matplotlib.lines.Line2D at 0x11cd5cd50>,\n",
       "  <matplotlib.lines.Line2D at 0x11cd52e90>,\n",
       "  <matplotlib.lines.Line2D at 0x11cd64d10>,\n",
       "  <matplotlib.lines.Line2D at 0x11cd77610>,\n",
       "  <matplotlib.lines.Line2D at 0x11cd88490>,\n",
       "  <matplotlib.lines.Line2D at 0x11cd88990>,\n",
       "  <matplotlib.lines.Line2D at 0x11cd98810>,\n",
       "  <matplotlib.lines.Line2D at 0x11cd98d10>,\n",
       "  <matplotlib.lines.Line2D at 0x11cdaab90>,\n",
       "  <matplotlib.lines.Line2D at 0x11cda0cd0>,\n",
       "  <matplotlib.lines.Line2D at 0x11cdbcf10>,\n",
       "  <matplotlib.lines.Line2D at 0x11cdaac10>,\n",
       "  <matplotlib.lines.Line2D at 0x11cdc4ed0>,\n",
       "  <matplotlib.lines.Line2D at 0x11cdd77d0>,\n",
       "  <matplotlib.lines.Line2D at 0x11cde6650>,\n",
       "  <matplotlib.lines.Line2D at 0x11cde6b50>,\n",
       "  <matplotlib.lines.Line2D at 0x11cdf69d0>,\n",
       "  <matplotlib.lines.Line2D at 0x11cdf6ed0>,\n",
       "  <matplotlib.lines.Line2D at 0x11ce0ad50>,\n",
       "  <matplotlib.lines.Line2D at 0x11ce01e90>,\n",
       "  <matplotlib.lines.Line2D at 0x11ce12d10>,\n",
       "  <matplotlib.lines.Line2D at 0x11ce24610>],\n",
       " 'caps': [<matplotlib.lines.Line2D at 0x11c140950>,\n",
       "  <matplotlib.lines.Line2D at 0x11c140e50>,\n",
       "  <matplotlib.lines.Line2D at 0x101a95cd0>,\n",
       "  <matplotlib.lines.Line2D at 0x101a8e390>,\n",
       "  <matplotlib.lines.Line2D at 0x101aa5c10>,\n",
       "  <matplotlib.lines.Line2D at 0x101aad5d0>,\n",
       "  <matplotlib.lines.Line2D at 0x101abd490>,\n",
       "  <matplotlib.lines.Line2D at 0x101abd990>,\n",
       "  <matplotlib.lines.Line2D at 0x11ccb4850>,\n",
       "  <matplotlib.lines.Line2D at 0x101aa5bd0>,\n",
       "  <matplotlib.lines.Line2D at 0x11ccc4c10>,\n",
       "  <matplotlib.lines.Line2D at 0x11ccbc910>,\n",
       "  <matplotlib.lines.Line2D at 0x11ccd7f90>,\n",
       "  <matplotlib.lines.Line2D at 0x11cce04d0>,\n",
       "  <matplotlib.lines.Line2D at 0x11cce0f50>,\n",
       "  <matplotlib.lines.Line2D at 0x11ccef850>,\n",
       "  <matplotlib.lines.Line2D at 0x11cd03650>,\n",
       "  <matplotlib.lines.Line2D at 0x11cd03b50>,\n",
       "  <matplotlib.lines.Line2D at 0x11cd15950>,\n",
       "  <matplotlib.lines.Line2D at 0x11cd15e50>,\n",
       "  <matplotlib.lines.Line2D at 0x11cd25cd0>,\n",
       "  <matplotlib.lines.Line2D at 0x11cd1da10>,\n",
       "  <matplotlib.lines.Line2D at 0x11cd25d50>,\n",
       "  <matplotlib.lines.Line2D at 0x11cd3f590>,\n",
       "  <matplotlib.lines.Line2D at 0x11cd36bd0>,\n",
       "  <matplotlib.lines.Line2D at 0x11cd52910>,\n",
       "  <matplotlib.lines.Line2D at 0x11cd64790>,\n",
       "  <matplotlib.lines.Line2D at 0x11cd64c90>,\n",
       "  <matplotlib.lines.Line2D at 0x11cd77b10>,\n",
       "  <matplotlib.lines.Line2D at 0x11cd6c850>,\n",
       "  <matplotlib.lines.Line2D at 0x11cd88e90>,\n",
       "  <matplotlib.lines.Line2D at 0x11cd77b90>,\n",
       "  <matplotlib.lines.Line2D at 0x11cd88f10>,\n",
       "  <matplotlib.lines.Line2D at 0x11cda0750>,\n",
       "  <matplotlib.lines.Line2D at 0x11cdb25d0>,\n",
       "  <matplotlib.lines.Line2D at 0x11cdb2ad0>,\n",
       "  <matplotlib.lines.Line2D at 0x11cdc4950>,\n",
       "  <matplotlib.lines.Line2D at 0x11cdc4e50>,\n",
       "  <matplotlib.lines.Line2D at 0x11cdd7cd0>,\n",
       "  <matplotlib.lines.Line2D at 0x11cdcba10>,\n",
       "  <matplotlib.lines.Line2D at 0x11cdd7d50>,\n",
       "  <matplotlib.lines.Line2D at 0x11cdf0590>,\n",
       "  <matplotlib.lines.Line2D at 0x11cde6bd0>,\n",
       "  <matplotlib.lines.Line2D at 0x11ce01910>,\n",
       "  <matplotlib.lines.Line2D at 0x11ce12790>,\n",
       "  <matplotlib.lines.Line2D at 0x11ce12c90>,\n",
       "  <matplotlib.lines.Line2D at 0x11ce24b10>,\n",
       "  <matplotlib.lines.Line2D at 0x11ce1a850>],\n",
       " 'boxes': [<matplotlib.lines.Line2D at 0x11c1352d0>,\n",
       "  <matplotlib.lines.Line2D at 0x101a8ee10>,\n",
       "  <matplotlib.lines.Line2D at 0x101a9dc90>,\n",
       "  <matplotlib.lines.Line2D at 0x101ab4590>,\n",
       "  <matplotlib.lines.Line2D at 0x101ac6910>,\n",
       "  <matplotlib.lines.Line2D at 0x11ccbccd0>,\n",
       "  <matplotlib.lines.Line2D at 0x11ccccbd0>,\n",
       "  <matplotlib.lines.Line2D at 0x11ccc4c90>,\n",
       "  <matplotlib.lines.Line2D at 0x101abdf10>,\n",
       "  <matplotlib.lines.Line2D at 0x11ccbc810>,\n",
       "  <matplotlib.lines.Line2D at 0x11cd1ddd0>,\n",
       "  <matplotlib.lines.Line2D at 0x11cd2ec90>,\n",
       "  <matplotlib.lines.Line2D at 0x11cd4b510>,\n",
       "  <matplotlib.lines.Line2D at 0x11cd5c890>,\n",
       "  <matplotlib.lines.Line2D at 0x11cd6cc10>,\n",
       "  <matplotlib.lines.Line2D at 0x11cd7ff90>,\n",
       "  <matplotlib.lines.Line2D at 0x11cd90e50>,\n",
       "  <matplotlib.lines.Line2D at 0x11cdaa6d0>,\n",
       "  <matplotlib.lines.Line2D at 0x11cdbca50>,\n",
       "  <matplotlib.lines.Line2D at 0x11cdcbdd0>,\n",
       "  <matplotlib.lines.Line2D at 0x11cddec90>,\n",
       "  <matplotlib.lines.Line2D at 0x11cdf6510>,\n",
       "  <matplotlib.lines.Line2D at 0x11ce0a890>,\n",
       "  <matplotlib.lines.Line2D at 0x11ce1ac10>],\n",
       " 'medians': [<matplotlib.lines.Line2D at 0x11c135f50>,\n",
       "  <matplotlib.lines.Line2D at 0x101a9d710>,\n",
       "  <matplotlib.lines.Line2D at 0x101aad690>,\n",
       "  <matplotlib.lines.Line2D at 0x101abde90>,\n",
       "  <matplotlib.lines.Line2D at 0x101a95d50>,\n",
       "  <matplotlib.lines.Line2D at 0x11cccc650>,\n",
       "  <matplotlib.lines.Line2D at 0x11cce09d0>,\n",
       "  <matplotlib.lines.Line2D at 0x11ccefd50>,\n",
       "  <matplotlib.lines.Line2D at 0x11ccf9cd0>,\n",
       "  <matplotlib.lines.Line2D at 0x11cd0bf90>,\n",
       "  <matplotlib.lines.Line2D at 0x11cd2e710>,\n",
       "  <matplotlib.lines.Line2D at 0x11cd3fa90>,\n",
       "  <matplotlib.lines.Line2D at 0x11cd52e10>,\n",
       "  <matplotlib.lines.Line2D at 0x11cd5cdd0>,\n",
       "  <matplotlib.lines.Line2D at 0x11cd7f550>,\n",
       "  <matplotlib.lines.Line2D at 0x11cd908d0>,\n",
       "  <matplotlib.lines.Line2D at 0x11cda0c50>,\n",
       "  <matplotlib.lines.Line2D at 0x11cdb2fd0>,\n",
       "  <matplotlib.lines.Line2D at 0x11cdbcf90>,\n",
       "  <matplotlib.lines.Line2D at 0x11cdde710>,\n",
       "  <matplotlib.lines.Line2D at 0x11cdf0a90>,\n",
       "  <matplotlib.lines.Line2D at 0x11ce01e10>,\n",
       "  <matplotlib.lines.Line2D at 0x11ce0add0>,\n",
       "  <matplotlib.lines.Line2D at 0x11ce2c550>],\n",
       " 'fliers': [<matplotlib.lines.Line2D at 0x101a8e8d0>,\n",
       "  <matplotlib.lines.Line2D at 0x101a9dc10>,\n",
       "  <matplotlib.lines.Line2D at 0x101aadb10>,\n",
       "  <matplotlib.lines.Line2D at 0x101aadb90>,\n",
       "  <matplotlib.lines.Line2D at 0x11ccbc750>,\n",
       "  <matplotlib.lines.Line2D at 0x11ccccb50>,\n",
       "  <matplotlib.lines.Line2D at 0x11cce0ed0>,\n",
       "  <matplotlib.lines.Line2D at 0x11cce9e90>,\n",
       "  <matplotlib.lines.Line2D at 0x11ccb4dd0>,\n",
       "  <matplotlib.lines.Line2D at 0x11cd1d890>,\n",
       "  <matplotlib.lines.Line2D at 0x11cd2ec10>,\n",
       "  <matplotlib.lines.Line2D at 0x11cd3ff90>,\n",
       "  <matplotlib.lines.Line2D at 0x11cd4bf50>,\n",
       "  <matplotlib.lines.Line2D at 0x11cd6c6d0>,\n",
       "  <matplotlib.lines.Line2D at 0x11cd7fa50>,\n",
       "  <matplotlib.lines.Line2D at 0x11cd90dd0>,\n",
       "  <matplotlib.lines.Line2D at 0x11cd98d90>,\n",
       "  <matplotlib.lines.Line2D at 0x11cdbc510>,\n",
       "  <matplotlib.lines.Line2D at 0x11cdcb890>,\n",
       "  <matplotlib.lines.Line2D at 0x11cddec10>,\n",
       "  <matplotlib.lines.Line2D at 0x11cdf0f90>,\n",
       "  <matplotlib.lines.Line2D at 0x11cdf6f50>,\n",
       "  <matplotlib.lines.Line2D at 0x11ce1a6d0>,\n",
       "  <matplotlib.lines.Line2D at 0x11ce2ca50>],\n",
       " 'means': []}"
      ]
     },
     "execution_count": 16,
     "metadata": {},
     "output_type": "execute_result"
    },
    {
     "data": {
      "image/png": "[encoded data removed]",
      "text/plain": [
       "<Figure size 432x288 with 1 Axes>"
      ]
     },
     "metadata": {
      "needs_background": "light"
     },
     "output_type": "display_data"
    }
   ],
   "source": [
    "plt.boxplot(areas)"
   ]
  },
  {
   "cell_type": "code",
   "execution_count": 19,
   "metadata": {},
   "outputs": [
    {
     "data": {
      "text/plain": [
       "{'whiskers': [<matplotlib.lines.Line2D at 0x11da5a210>,\n",
       "  <matplotlib.lines.Line2D at 0x11da5a810>,\n",
       "  <matplotlib.lines.Line2D at 0x11da5ad90>,\n",
       "  <matplotlib.lines.Line2D at 0x11d96f6d0>,\n",
       "  <matplotlib.lines.Line2D at 0x11d977fd0>,\n",
       "  <matplotlib.lines.Line2D at 0x11d980510>,\n",
       "  <matplotlib.lines.Line2D at 0x11d987ed0>,\n",
       "  <matplotlib.lines.Line2D at 0x11d980f90>,\n",
       "  <matplotlib.lines.Line2D at 0x11d99bd90>,\n",
       "  <matplotlib.lines.Line2D at 0x11d99be50>,\n",
       "  <matplotlib.lines.Line2D at 0x11dac4790>,\n",
       "  <matplotlib.lines.Line2D at 0x11dac4c10>,\n",
       "  <matplotlib.lines.Line2D at 0x11dad6a90>,\n",
       "  <matplotlib.lines.Line2D at 0x11dad6f90>,\n",
       "  <matplotlib.lines.Line2D at 0x11dae7910>,\n",
       "  <matplotlib.lines.Line2D at 0x11dae7e10>,\n",
       "  <matplotlib.lines.Line2D at 0x11d99b910>,\n",
       "  <matplotlib.lines.Line2D at 0x11daf9c10>,\n",
       "  <matplotlib.lines.Line2D at 0x11db0a550>,\n",
       "  <matplotlib.lines.Line2D at 0x11db0aa50>,\n",
       "  <matplotlib.lines.Line2D at 0x11daf9c90>,\n",
       "  <matplotlib.lines.Line2D at 0x11db1c8d0>,\n",
       "  <matplotlib.lines.Line2D at 0x11db1ce50>,\n",
       "  <matplotlib.lines.Line2D at 0x11db2e750>,\n",
       "  <matplotlib.lines.Line2D at 0x11db2ecd0>,\n",
       "  <matplotlib.lines.Line2D at 0x11db3f5d0>,\n",
       "  <matplotlib.lines.Line2D at 0x11db48f10>,\n",
       "  <matplotlib.lines.Line2D at 0x11db35c10>,\n",
       "  <matplotlib.lines.Line2D at 0x11db5bd90>,\n",
       "  <matplotlib.lines.Line2D at 0x11db51ed0>,\n",
       "  <matplotlib.lines.Line2D at 0x11db6ac10>,\n",
       "  <matplotlib.lines.Line2D at 0x11db63d50>,\n",
       "  <matplotlib.lines.Line2D at 0x11db7ca90>,\n",
       "  <matplotlib.lines.Line2D at 0x11db7cf90>,\n",
       "  <matplotlib.lines.Line2D at 0x11db8f910>,\n",
       "  <matplotlib.lines.Line2D at 0x11db8fe10>,\n",
       "  <matplotlib.lines.Line2D at 0x11db4a790>,\n",
       "  <matplotlib.lines.Line2D at 0x11db4ac90>,\n",
       "  <matplotlib.lines.Line2D at 0x11dbb1610>,\n",
       "  <matplotlib.lines.Line2D at 0x11dbb1b10>,\n",
       "  <matplotlib.lines.Line2D at 0x11dbc3490>,\n",
       "  <matplotlib.lines.Line2D at 0x11dbc3990>,\n",
       "  <matplotlib.lines.Line2D at 0x11dbc3f10>,\n",
       "  <matplotlib.lines.Line2D at 0x11dbd4810>,\n",
       "  <matplotlib.lines.Line2D at 0x11dbd4d90>,\n",
       "  <matplotlib.lines.Line2D at 0x11dbe4690>,\n",
       "  <matplotlib.lines.Line2D at 0x11dbeffd0>,\n",
       "  <matplotlib.lines.Line2D at 0x11dbf7510>],\n",
       " 'caps': [<matplotlib.lines.Line2D at 0x11da5ad10>,\n",
       "  <matplotlib.lines.Line2D at 0x11da4f690>,\n",
       "  <matplotlib.lines.Line2D at 0x11d967d10>,\n",
       "  <matplotlib.lines.Line2D at 0x11d967750>,\n",
       "  <matplotlib.lines.Line2D at 0x11d9805d0>,\n",
       "  <matplotlib.lines.Line2D at 0x11d980f50>,\n",
       "  <matplotlib.lines.Line2D at 0x11d991910>,\n",
       "  <matplotlib.lines.Line2D at 0x11d991e10>,\n",
       "  <matplotlib.lines.Line2D at 0x11d9a27d0>,\n",
       "  <matplotlib.lines.Line2D at 0x11d980a50>,\n",
       "  <matplotlib.lines.Line2D at 0x11dacc650>,\n",
       "  <matplotlib.lines.Line2D at 0x11daccb50>,\n",
       "  <matplotlib.lines.Line2D at 0x11dae04d0>,\n",
       "  <matplotlib.lines.Line2D at 0x11dae09d0>,\n",
       "  <matplotlib.lines.Line2D at 0x11dae0f50>,\n",
       "  <matplotlib.lines.Line2D at 0x11daef850>,\n",
       "  <matplotlib.lines.Line2D at 0x11dae7e90>,\n",
       "  <matplotlib.lines.Line2D at 0x11db02650>,\n",
       "  <matplotlib.lines.Line2D at 0x11db0af50>,\n",
       "  <matplotlib.lines.Line2D at 0x11db15490>,\n",
       "  <matplotlib.lines.Line2D at 0x11db1cdd0>,\n",
       "  <matplotlib.lines.Line2D at 0x11db15f10>,\n",
       "  <matplotlib.lines.Line2D at 0x11db2ec50>,\n",
       "  <matplotlib.lines.Line2D at 0x11db23d90>,\n",
       "  <matplotlib.lines.Line2D at 0x11db3fad0>,\n",
       "  <matplotlib.lines.Line2D at 0x11db3ffd0>,\n",
       "  <matplotlib.lines.Line2D at 0x11db51950>,\n",
       "  <matplotlib.lines.Line2D at 0x11db51e50>,\n",
       "  <matplotlib.lines.Line2D at 0x11db637d0>,\n",
       "  <matplotlib.lines.Line2D at 0x11db63cd0>,\n",
       "  <matplotlib.lines.Line2D at 0x11db74650>,\n",
       "  <matplotlib.lines.Line2D at 0x11db74b50>,\n",
       "  <matplotlib.lines.Line2D at 0x11db864d0>,\n",
       "  <matplotlib.lines.Line2D at 0x11db869d0>,\n",
       "  <matplotlib.lines.Line2D at 0x11db86f50>,\n",
       "  <matplotlib.lines.Line2D at 0x11db96850>,\n",
       "  <matplotlib.lines.Line2D at 0x11db96dd0>,\n",
       "  <matplotlib.lines.Line2D at 0x11dba86d0>,\n",
       "  <matplotlib.lines.Line2D at 0x11dba8c50>,\n",
       "  <matplotlib.lines.Line2D at 0x11dbb9550>,\n",
       "  <matplotlib.lines.Line2D at 0x11dbc3e90>,\n",
       "  <matplotlib.lines.Line2D at 0x11dbb1b90>,\n",
       "  <matplotlib.lines.Line2D at 0x11dbd4d10>,\n",
       "  <matplotlib.lines.Line2D at 0x11dbcae50>,\n",
       "  <matplotlib.lines.Line2D at 0x11dbe4b90>,\n",
       "  <matplotlib.lines.Line2D at 0x11dbdccd0>,\n",
       "  <matplotlib.lines.Line2D at 0x11dbf7a10>,\n",
       "  <matplotlib.lines.Line2D at 0x11dbf7f10>],\n",
       " 'boxes': [<matplotlib.lines.Line2D at 0x11da4f650>,\n",
       "  <matplotlib.lines.Line2D at 0x11d967c90>,\n",
       "  <matplotlib.lines.Line2D at 0x11d977ad0>,\n",
       "  <matplotlib.lines.Line2D at 0x11d9879d0>,\n",
       "  <matplotlib.lines.Line2D at 0x11d99b850>,\n",
       "  <matplotlib.lines.Line2D at 0x11dac46d0>,\n",
       "  <matplotlib.lines.Line2D at 0x11dad6590>,\n",
       "  <matplotlib.lines.Line2D at 0x11daccbd0>,\n",
       "  <matplotlib.lines.Line2D at 0x11d991e90>,\n",
       "  <matplotlib.lines.Line2D at 0x11d9a2d50>,\n",
       "  <matplotlib.lines.Line2D at 0x11db15e90>,\n",
       "  <matplotlib.lines.Line2D at 0x11db23d10>,\n",
       "  <matplotlib.lines.Line2D at 0x11db35b90>,\n",
       "  <matplotlib.lines.Line2D at 0x11db48a10>,\n",
       "  <matplotlib.lines.Line2D at 0x11db5b890>,\n",
       "  <matplotlib.lines.Line2D at 0x11db6a710>,\n",
       "  <matplotlib.lines.Line2D at 0x11db7c590>,\n",
       "  <matplotlib.lines.Line2D at 0x11db74bd0>,\n",
       "  <matplotlib.lines.Line2D at 0x11db8fe90>,\n",
       "  <matplotlib.lines.Line2D at 0x11db4ad10>,\n",
       "  <matplotlib.lines.Line2D at 0x11dbb9f50>,\n",
       "  <matplotlib.lines.Line2D at 0x11dbcadd0>,\n",
       "  <matplotlib.lines.Line2D at 0x11dbdcc50>,\n",
       "  <matplotlib.lines.Line2D at 0x11dbefad0>],\n",
       " 'medians': [<matplotlib.lines.Line2D at 0x11d967790>,\n",
       "  <matplotlib.lines.Line2D at 0x11d9775d0>,\n",
       "  <matplotlib.lines.Line2D at 0x11d9874d0>,\n",
       "  <matplotlib.lines.Line2D at 0x11d987f50>,\n",
       "  <matplotlib.lines.Line2D at 0x11d96fc10>,\n",
       "  <matplotlib.lines.Line2D at 0x11dac4c90>,\n",
       "  <matplotlib.lines.Line2D at 0x11dae0ed0>,\n",
       "  <matplotlib.lines.Line2D at 0x11daefd50>,\n",
       "  <matplotlib.lines.Line2D at 0x11db02b50>,\n",
       "  <matplotlib.lines.Line2D at 0x11db15990>,\n",
       "  <matplotlib.lines.Line2D at 0x11db23810>,\n",
       "  <matplotlib.lines.Line2D at 0x11db35690>,\n",
       "  <matplotlib.lines.Line2D at 0x11db48510>,\n",
       "  <matplotlib.lines.Line2D at 0x11db48f90>,\n",
       "  <matplotlib.lines.Line2D at 0x11db5be10>,\n",
       "  <matplotlib.lines.Line2D at 0x11db6ac90>,\n",
       "  <matplotlib.lines.Line2D at 0x11db86ed0>,\n",
       "  <matplotlib.lines.Line2D at 0x11db96d50>,\n",
       "  <matplotlib.lines.Line2D at 0x11dba8bd0>,\n",
       "  <matplotlib.lines.Line2D at 0x11dbb9a50>,\n",
       "  <matplotlib.lines.Line2D at 0x11dbca8d0>,\n",
       "  <matplotlib.lines.Line2D at 0x11dbdc750>,\n",
       "  <matplotlib.lines.Line2D at 0x11dbef5d0>,\n",
       "  <matplotlib.lines.Line2D at 0x11dbe4c10>],\n",
       " 'fliers': [],\n",
       " 'means': []}"
      ]
     },
     "execution_count": 19,
     "metadata": {},
     "output_type": "execute_result"
    },
    {
     "data": {
      "image/png": "[encoded data removed]",
      "text/plain": [
       "<Figure size 432x288 with 1 Axes>"
      ]
     },
     "metadata": {
      "needs_background": "light"
     },
     "output_type": "display_data"
    }
   ],
   "source": [
    "plt.boxplot(areas, showfliers=False)"
   ]
  },
  {
   "cell_type": "code",
   "execution_count": 44,
   "metadata": {},
   "outputs": [
    {
     "name": "stdout",
     "output_type": "stream",
     "text": [
      "21891\n",
      "2\n",
      "475.0\n",
      "687.3578894972624\n",
      "816.7239701657049\n"
     ]
    }
   ],
   "source": [
    "# source: https://stackoverflow.com/questions/952914/how-to-make-a-flat-list-out-of-list-of-lists\n",
    "def flatten_list(l):\n",
    "    return [item for sublist in l for item in sublist]\n",
    "\n",
    "flat = np.array(flatten_list(areas))\n",
    "\n",
    "print(max(flat))\n",
    "print(min(flat))\n",
    "print(np.median(flat))\n",
    "print(np.mean(flat))\n",
    "print(np.std(flat))"
   ]
  },
  {
   "cell_type": "code",
   "execution_count": 47,
   "metadata": {},
   "outputs": [
    {
     "data": {
      "text/plain": [
       "{'whiskers': [<matplotlib.lines.Line2D at 0x11e0f3c50>,\n",
       "  <matplotlib.lines.Line2D at 0x11e0dce90>],\n",
       " 'caps': [<matplotlib.lines.Line2D at 0x11e0f7790>,\n",
       "  <matplotlib.lines.Line2D at 0x11e0f7c90>],\n",
       " 'boxes': [<matplotlib.lines.Line2D at 0x11e0f30d0>],\n",
       " 'medians': [<matplotlib.lines.Line2D at 0x11e0f3d50>],\n",
       " 'fliers': [],\n",
       " 'means': []}"
      ]
     },
     "execution_count": 47,
     "metadata": {},
     "output_type": "execute_result"
    },
    {
     "data": {
      "image/png": "[encoded data removed]",
      "text/plain": [
       "<Figure size 432x288 with 1 Axes>"
      ]
     },
     "metadata": {
      "needs_background": "light"
     },
     "output_type": "display_data"
    }
   ],
   "source": [
    "plt.boxplot(flat, showfliers=False)"
   ]
  },
  {
   "cell_type": "code",
   "execution_count": 53,
   "metadata": {},
   "outputs": [
    {
     "data": {
      "text/plain": [
       "<BarContainer object of 1993 artists>"
      ]
     },
     "execution_count": 53,
     "metadata": {},
     "output_type": "execute_result"
    },
    {
     "data": {
      "image/png": "[encoded data removed]",
      "text/plain": [
       "<Figure size 432x288 with 1 Axes>"
      ]
     },
     "metadata": {
      "needs_background": "light"
     },
     "output_type": "display_data"
    }
   ],
   "source": [
    "unique, counts = np.unique(flat, return_counts=True)\n",
    "\n",
    "plt.bar(unique, counts)"
   ]
  },
  {
   "cell_type": "code",
   "execution_count": 54,
   "metadata": {},
   "outputs": [
    {
     "data": {
      "text/plain": [
       "17987"
      ]
     },
     "execution_count": 54,
     "metadata": {},
     "output_type": "execute_result"
    }
   ],
   "source": [
    "max(flat[flat<max(flat)])"
   ]
  },
  {
   "cell_type": "code",
   "execution_count": null,
   "metadata": {},
   "outputs": [],
   "source": []
  },
  {
   "cell_type": "code",
   "execution_count": null,
   "metadata": {},
   "outputs": [],
   "source": [
    "plt.boxplot(flat)"
   ]
  },
  {
   "cell_type": "code",
   "execution_count": null,
   "metadata": {},
   "outputs": [],
   "source": [
    "plt.imshow(patch)"
   ]
  },
  {
   "cell_type": "code",
   "execution_count": null,
   "metadata": {},
   "outputs": [],
   "source": []
  },
  {
   "cell_type": "code",
   "execution_count": null,
   "metadata": {},
   "outputs": [],
   "source": [
    "m = np.zeros((*patch.shape, 3), dtype='uint8')\n",
    "g = cv2.drawContours(m,contours,-1,(255, 255, 255),2)\n",
    "plt.imshow(g)"
   ]
  },
  {
   "cell_type": "code",
   "execution_count": null,
   "metadata": {},
   "outputs": [],
   "source": [
    "g = np.zeros((4,4))\n"
   ]
  },
  {
   "cell_type": "code",
   "execution_count": null,
   "metadata": {},
   "outputs": [],
   "source": [
    "patch.shape"
   ]
  },
  {
   "cell_type": "code",
   "execution_count": null,
   "metadata": {},
   "outputs": [],
   "source": []
  }
 ],
 "metadata": {
  "kernelspec": {
   "display_name": "Python 3",
   "language": "python",
   "name": "python3"
  },
  "language_info": {
   "codemirror_mode": {
    "name": "ipython",
    "version": 3
   },
   "file_extension": ".py",
   "mimetype": "text/x-python",
   "name": "python",
   "nbconvert_exporter": "python",
   "pygments_lexer": "ipython3",
   "version": "3.7.6"
  }
 },
 "nbformat": 4,
 "nbformat_minor": 1
}
