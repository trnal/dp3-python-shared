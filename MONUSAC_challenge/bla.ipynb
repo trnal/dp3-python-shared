{
 "cells": [
  {
   "cell_type": "code",
   "execution_count": 2,
   "metadata": {},
   "outputs": [
    {
     "name": "stdout",
     "output_type": "stream",
     "text": [
      "Creation of the directory /Users/macbook/Desktop/SKOLA/DP/Code/bla/monusac_results/ failed\n",
      "CGA-73-4668-01Z-00-DX1\n",
      "CGA-55-1594-01Z-00-DX1\n",
      "CGA-EV-5903-01Z-00-DX1\n",
      "CGA-YL-A9WY-01Z-00-DX1\n",
      "CGA-A2-A0ES-01Z-00-DX1\n",
      "CGA-DW-7841-01Z-00-DX1\n",
      "CGA-KK-A6E0-01Z-00-DX1\n",
      "CGA-UZ-A9PU-01Z-00-DX1\n",
      "CGA-B9-A8YI-01Z-00-DX1\n",
      "CGA-D8-A1X5-01Z-00-DX2\n",
      "CGA-EJ-5517-01Z-00-DX1\n",
      "CGA-J4-A67Q-01Z-00-DX1\n",
      "CGA-EW-A6SD-01Z-00-DX1\n",
      "CGA-E9-A22B-01Z-00-DX1\n",
      "CGA-G7-A8LD-01Z-00-DX1\n",
      "CGA-B6-A0WZ-01Z-00-DX1\n",
      "CGA-E9-A22G-01Z-00-DX1\n",
      "CGA-A2-A0CV-01Z-00-DX1\n",
      "CGA-KK-A59X-01Z-00-DX1\n",
      "CGA-J4-A67T-01Z-00-DX1\n",
      "CGA-69-A59K-01Z-00-DX1\n",
      "CGA-MH-A560-01Z-00-DX2\n",
      "CGA-UZ-A9PO-01Z-00-DX1\n",
      "CGA-G9-6499-01Z-00-DX1\n",
      "CGA-P4-AAVK-01Z-00-DX1\n",
      "CGA-BH-A18T-01Z-00-DX1\n",
      "CGA-69-7760-01Z-00-DX1\n",
      "CGA-86-8672-01Z-00-DX1\n",
      "CGA-MP-A4SY-01Z-00-DX1\n",
      "CGA-MP-A4T7-01Z-00-DX1\n",
      "CGA-KK-A7AW-01Z-00-DX1\n",
      "CGA-E2-A154-01Z-00-DX1\n",
      "CGA-EJ-5505-01Z-00-DX1\n",
      "CGA-SX-A7SR-01Z-00-DX1\n",
      "CGA-V1-A9O9-01Z-00-DX1\n",
      "CGA-B9-A44B-01Z-00-DX1\n",
      "CGA-X4-A8KQ-01Z-00-DX8\n",
      "CGA-V1-A8WL-01Z-00-DX1\n",
      "CGA-F9-A97G-01Z-00-DX1\n",
      "CGA-5P-A9K0-01Z-00-DX1\n",
      "CGA-78-7220-01Z-00-DX1\n",
      "CGA-G9-6342-01Z-00-DX1\n",
      "CGA-S3-AA11-01Z-00-DX1\n",
      "CGA-EJ-5495-01Z-00-DX1\n",
      "CGA-L4-A4E5-01Z-00-DX1\n",
      "CGA-86-7713-01Z-00-DX1\n"
     ]
    }
   ],
   "source": [
    "# This is the test code to predict different cell classes\n",
    "# Author Trnal (for MoNuSAC challenge 2020)\n",
    "\n",
    "import cv2\n",
    "import numpy as np\n",
    "from glob import glob\n",
    "import scipy.io\n",
    "import openslide\n",
    "\n",
    "import os\n",
    "import sys\n",
    "\n",
    "sys.path.append(os.path.dirname(os.getcwd()))\n",
    "\n",
    "from custom_functions import *\n",
    "\n",
    "#\n",
    "# ------------- IMPORTANT -----------------\n",
    "# these paths need to be set before running the program\n",
    "# save_as_mat - if false results will be stored as .tif images\n",
    "#\n",
    "data_path = '/Users/macbook/Desktop/SKOLA/DP/Data/MoNuSAC_images_and_annotations/data/'\n",
    "dest_path = os.path.dirname(os.getcwd()) + '/monusac_results/'\n",
    "MODELS_PATH = os.path.dirname(os.getcwd()) + '/models/'\n",
    "save_as_mat = True\n",
    "\n",
    "create_folder(dest_path)\n",
    "\n",
    "model_epi = base_model(verbose=False)\n",
    "model_epi.load_weights(MODELS_PATH + 'MNS_epitel.h5')\n",
    "\n",
    "model_lym = base_model(verbose=False)\n",
    "model_lym.load_weights(MODELS_PATH + 'MNS_lymph.h5')\n",
    "\n",
    "model_mac = base_model(verbose=False)\n",
    "model_mac.load_weights(MODELS_PATH + 'MNS_macro.h5')\n",
    "\n",
    "model_neu = base_model(verbose=False)\n",
    "model_neu.load_weights(MODELS_PATH + 'MNS_neutro.h5')\n",
    "\n",
    "patients = [x[0] for x in os.walk(data_path)]\n",
    "if data_path in patients: patients.remove(data_path)\n",
    "\n",
    "for patient in patients:        \n",
    "    patient_name = patient[len(data_path) + 1:]  # Patient name\n",
    "    print(patient_name)\n",
    "\n",
    "    # create patient directory\n",
    "    create_folder(dest_path + patient_name)\n",
    "\n",
    "    # for each image in patient\n",
    "    sub_images = glob(patient + '/*.svs')\n",
    "    for sub_image in sub_images:\n",
    "\n",
    "        # convert to tif if needed\n",
    "        if not os.path.isfile(sub_image[:-4] + '.tif'):\n",
    "            img = openslide.OpenSlide(sub_name)\n",
    "            cv2.imwrite(sub_image_loc[:-4] + '.tif', np.array(img.read_region((0, 0), 0, img.level_dimensions[0])))\n",
    "\n",
    "        sub_image_name = sub_image[len(patient) + 1:]\n",
    "        dest_subimage = dest_path + patient_name + '/' + sub_image_name[:-4] + '/'\n",
    "\n",
    "        # load image\n",
    "        img = cv2.imread(sub_image[:-4] + '.tif')\n",
    "\n",
    "        # create subimage directory and class directories in it\n",
    "        create_folder(dest_subimage)\n",
    "\n",
    "        create_folder(dest_subimage + 'Epithelial')\n",
    "        create_folder(dest_subimage + 'Lymphocyte')\n",
    "        create_folder(dest_subimage + 'Macrophage')\n",
    "        create_folder(dest_subimage + 'Neutrophil')\n",
    "\n",
    "        # get predictions\n",
    "        epi_p, lym_p, mac_p, neu_p = predict_all_classes(img, model_epi, model_lym, model_mac, model_neu)\n",
    "\n",
    "        # create masks from predictions\n",
    "        epi = create_mask(epi_p, size_limit=50)\n",
    "        lym = create_mask(lym_p, size_limit=50)\n",
    "        mac = create_mask(mac_p, size_limit=50)\n",
    "        neu = create_mask(neu_p, size_limit=50)\n",
    "\n",
    "        # save results\n",
    "        if save_as_mat:\n",
    "            scipy.io.savemat(dest_subimage + 'Epithelial/' + sub_image_name[:-4] + '.mat', {epi.dtype.name: epi})\n",
    "            scipy.io.savemat(dest_subimage + 'Lymphocyte/' + sub_image_name[:-4] + '.mat', {lym.dtype.name: lym})\n",
    "            scipy.io.savemat(dest_subimage + 'Macrophage/' + sub_image_name[:-4] + '.mat', {mac.dtype.name: mac})\n",
    "            scipy.io.savemat(dest_subimage + 'Neutrophil/' + sub_image_name[:-4] + '.mat', {epi.dtype.name: neu})\n",
    "        else:\n",
    "            cv2.imwrite(dest_subimage + 'Epithelial/' + sub_image_name[:-4] + '.tif', epi)\n",
    "            cv2.imwrite(dest_subimage + 'Lymphocyte/' + sub_image_name[:-4] + '.tif', lym)\n",
    "            cv2.imwrite(dest_subimage + 'Macrophage/' + sub_image_name[:-4] + '.tif', mac)\n",
    "            cv2.imwrite(dest_subimage + 'Neutrophil/' + sub_image_name[:-4] + '.tif', neu)\n",
    "\n"
   ]
  },
  {
   "cell_type": "code",
   "execution_count": 5,
   "metadata": {},
   "outputs": [
    {
     "name": "stdout",
     "output_type": "stream",
     "text": [
      "(2, 2)\n",
      "(14, 6)\n",
      "(2, 2)\n",
      "(2, 2)\n"
     ]
    }
   ],
   "source": [
    "img = np.ones((3,7))\n",
    "img = np.zeros((2,2))\n",
    "\n",
    "old_shape = img.shape[0], img.shape[1]\n",
    "print(old_shape)\n",
    "\n",
    "img = cv2.resize(img, (6,14))\n",
    "print(img.shape)\n",
    "print(old_shape)\n",
    "\n",
    "img = cv2.resize(img, old_shape)\n",
    "print(img.shape)"
   ]
  },
  {
   "cell_type": "code",
   "execution_count": 9,
   "metadata": {},
   "outputs": [
    {
     "name": "stdout",
     "output_type": "stream",
     "text": [
      "(109, 90, 3)\n",
      "(128, 156, 3)\n",
      "(128, 156)\n",
      "(128, 156)\n",
      "(109, 90)\n"
     ]
    },
    {
     "data": {
      "text/plain": [
       "(90, 109)"
      ]
     },
     "execution_count": 9,
     "metadata": {},
     "output_type": "execute_result"
    }
   ],
   "source": [
    "img = cv2.imread('/Users/macbook/Desktop/SKOLA/DP/Data/MoNuSAC_images_and_annotations/images/TCGA-KK-A6E0-01Z-00-DX1-4.tif')\n",
    "print(img.shape)\n",
    "\n",
    "patch_size = 128\n",
    "if img.shape[0] < patch_size or img.shape[1] < patch_size:\n",
    "        old_shape = img.shape[0], img.shape[1]\n",
    "        shorter = min(img.shape[0], img.shape[1])\n",
    "        ratio = patch_size / shorter\n",
    "        dim0 = int(math.ceil(img.shape[0] * ratio))\n",
    "        dim1 = int(math.ceil(img.shape[1] * ratio))\n",
    "        img = cv2.resize(img, (dim0, dim1))\n",
    "else:\n",
    "    old_shape = -1\n",
    "    \n",
    "print(img.shape)\n",
    "print(patch_sums.shape)\n",
    "print(patch_counts.shape)\n",
    "print(old_shape)\n",
    "        \n",
    "patch_sums = np.zeros((img.shape[0], img.shape[1]))\n",
    "patch_counts = np.ones((img.shape[0], img.shape[1]))\n",
    "\n",
    "collected_mean = patch_sums / patch_counts\n",
    "if old_shape != -1: collected_mean = cv2.resize(collected_mean, old_shape)\n",
    "\n",
    "collected_mean.shape"
   ]
  },
  {
   "cell_type": "code",
   "execution_count": 8,
   "metadata": {},
   "outputs": [
    {
     "data": {
      "text/plain": [
       "(128, 156)"
      ]
     },
     "execution_count": 8,
     "metadata": {},
     "output_type": "execute_result"
    }
   ],
   "source": [
    "collected_mean.shape"
   ]
  },
  {
   "cell_type": "code",
   "execution_count": null,
   "metadata": {},
   "outputs": [],
   "source": []
  }
 ],
 "metadata": {
  "kernelspec": {
   "display_name": "Python 3",
   "language": "python",
   "name": "python3"
  },
  "language_info": {
   "codemirror_mode": {
    "name": "ipython",
    "version": 3
   },
   "file_extension": ".py",
   "mimetype": "text/x-python",
   "name": "python",
   "nbconvert_exporter": "python",
   "pygments_lexer": "ipython3",
   "version": "3.7.6"
  },
  "pycharm": {
   "stem_cell": {
    "cell_type": "raw",
    "metadata": {
     "collapsed": false
    },
    "source": []
   }
  }
 },
 "nbformat": 4,
 "nbformat_minor": 1
}
