{
 "cells": [
  {
   "cell_type": "markdown",
   "metadata": {
    "colab_type": "text",
    "id": "D-pkx_7GxoFX"
   },
   "source": [
    "# IMPORTS"
   ]
  },
  {
   "cell_type": "code",
   "execution_count": null,
   "metadata": {},
   "outputs": [],
   "source": [
    "%load_ext autoreload\n",
    "%autoreload 2"
   ]
  },
  {
   "cell_type": "code",
   "execution_count": null,
   "metadata": {},
   "outputs": [],
   "source": [
    "import os\n",
    "import sys\n",
    "\n",
    "sys.path.append(os.path.dirname(os.getcwd()))\n",
    "\n",
    "from config import *\n",
    "from models import *\n",
    "from metrics import *\n",
    "from augmentor import Augmentor\n",
    "from data_generator import DataGenerator"
   ]
  },
  {
   "cell_type": "code",
   "execution_count": 4,
   "metadata": {
    "colab": {},
    "colab_type": "code",
    "id": "Nm2cZoB31TzK",
    "pycharm": {
     "is_executing": false
    }
   },
   "outputs": [],
   "source": [
    "import cv2\n",
    "import numpy as np\n",
    "import matplotlib.pyplot as plt\n",
    "from timeit import default_timer as timer\n",
    "import random\n",
    "import json\n",
    "from datetime import datetime"
   ]
  },
  {
   "cell_type": "markdown",
   "metadata": {
    "colab_type": "text",
    "id": "reQ1kqByqVai"
   },
   "source": [
    "# Training"
   ]
  },
  {
   "cell_type": "code",
   "execution_count": 1,
   "metadata": {},
   "outputs": [],
   "source": [
    "# AUGMENT IMAGES \n",
    "TEST_NAMES = ['TCGA-G9-6336-01Z-00-DX1', 'TCGA-A7-A13F-01Z-00-DX1', 'TCGA-21-5784-01Z-00-DX1']\n",
    "\n",
    "\n",
    "# augment original\n",
    "augmentor = Augmentor(PATCH_WIDTH, \n",
    "                      PATCH_HEIGHT, \n",
    "                      DEFAULT_STRIDE, \n",
    "                      ORIGINAL_IMG_PATH, \n",
    "                      TRAIN_IMG_PATH, \n",
    "                      destination_test_path=TEST_IMG_PATH,\n",
    "                      test_names=TEST_NAMES)\n",
    "augmentor.generate_patches()\n",
    "\n",
    "# augment masks\n",
    "augmentor = Augmentor(PATCH_WIDTH, \n",
    "                      PATCH_HEIGHT, \n",
    "                      DEFAULT_STRIDE, \n",
    "                      ORIGINAL_MASK_PATH, \n",
    "                      TRAIN_MASK_PATH, \n",
    "                      destination_test_path=TEST_MASK_PATH,\n",
    "                      test_names=TEST_NAMES)\n",
    "augmentor.generate_patches()\n",
    "\n",
    "# augment vahadane\n",
    "augmentor = Augmentor(PATCH_WIDTH, \n",
    "                      PATCH_HEIGHT, \n",
    "                      DEFAULT_STRIDE, \n",
    "                      VAHADANE_IMG_PATH, \n",
    "                      VAHADANE_TRAIN_IMG_PATH, \n",
    "                      destination_test_path=VAHADANE_TEST_IMG_PATH,\n",
    "                      test_names=TEST_NAMES)\n",
    "augmentor.generate_patches()\n",
    "\n",
    "# augment macenko\n",
    "augmentor = Augmentor(PATCH_WIDTH, \n",
    "                      PATCH_HEIGHT, \n",
    "                      DEFAULT_STRIDE, \n",
    "                      MACENKO_IMG_PATH, \n",
    "                      MACENKO_TRAIN_IMG_PATH, \n",
    "                      destination_test_path=MACENKO_TEST_IMG_PATH,\n",
    "                      test_names=TEST_NAMES)\n",
    "augmentor.generate_patches()\n",
    "\n",
    "#augment hemato\n",
    "augmentor = Augmentor(PATCH_WIDTH, \n",
    "                      PATCH_HEIGHT, \n",
    "                      DEFAULT_STRIDE, \n",
    "                      HEMATO_IMG_PATH, \n",
    "                      HEMATO_TRAIN_IMG_PATH, \n",
    "                      destination_test_path=HEMATO_TEST_IMG_PATH,\n",
    "                      test_names=TEST_NAMES)\n",
    "augmentor.generate_patches()\n",
    "\n",
    "\n",
    "# shrink originals (ratio 200:128)\n",
    "\n",
    "\n",
    "# GET IMAGES\n",
    "# SET CONSTANTS\n",
    "# GET GENERATORS\n",
    "# SET MODEL NAME\n",
    "# GET MODEL \n",
    "# TRAIN MODEL \n",
    "# SAVE MODELS HISTORY \n",
    "# SAVE MODEL AS JSON\n"
   ]
  },
  {
   "cell_type": "code",
   "execution_count": 12,
   "metadata": {},
   "outputs": [],
   "source": [
    "warnings.filterwarnings('ignore', category=UserWarning, module='skimage')\n",
    "seed = 42\n",
    "random.seed = seed\n",
    "np.random.seed = seed"
   ]
  },
  {
   "cell_type": "code",
   "execution_count": 13,
   "metadata": {},
   "outputs": [
    {
     "data": {
      "text/plain": [
       "88872"
      ]
     },
     "execution_count": 13,
     "metadata": {},
     "output_type": "execute_result"
    }
   ],
   "source": [
    "names = [f for f in os.listdir(TRAIN_IMG_PATH)]\n",
    "len(names)"
   ]
  },
  {
   "cell_type": "code",
   "execution_count": 17,
   "metadata": {},
   "outputs": [],
   "source": [
    "use_fraction = 0.5\n",
    "validation_fraction = 0.1\n",
    "\n",
    "np.random.shuffle(names)\n",
    "\n",
    "used_names = names[:int(len(names)*use_fraction)]"
   ]
  },
  {
   "cell_type": "code",
   "execution_count": 18,
   "metadata": {},
   "outputs": [
    {
     "data": {
      "text/plain": [
       "44436"
      ]
     },
     "execution_count": 18,
     "metadata": {},
     "output_type": "execute_result"
    }
   ],
   "source": [
    "validation_index = -int(len(used_names)*validation_fraction)\n",
    "\n",
    "training_names = used_names[:validation_index]\n",
    "validation_names = used_names[validation_index:]\n",
    "\n",
    "len(training_names) + len(validation_names)"
   ]
  },
  {
   "cell_type": "code",
   "execution_count": 19,
   "metadata": {},
   "outputs": [],
   "source": [
    "batch_size = 32\n",
    "validation_batch_size = int(batch_size*validation_fraction)"
   ]
  },
  {
   "cell_type": "code",
   "execution_count": 20,
   "metadata": {},
   "outputs": [],
   "source": [
    "training_generator = DataGenerator(training_names, TRAIN_IMG_PATH, TRAIN_MASK_PATH, batch_size=batch_size)\n",
    "validation_generator = DataGenerator(validation_names, TRAIN_IMG_PATH, TRAIN_MASK_PATH, batch_size=validation_batch_size)"
   ]
  },
  {
   "cell_type": "code",
   "execution_count": 21,
   "metadata": {},
   "outputs": [],
   "source": [
    "earlystopper = EarlyStopping(patience=10, verbose=1)\n",
    "checkpointer = ModelCheckpoint(MODEL_PATH + MODEL_NAME +'.h5', verbose=1, save_best_only=True)"
   ]
  },
  {
   "cell_type": "code",
   "execution_count": 20,
   "metadata": {},
   "outputs": [
    {
     "name": "stdout",
     "output_type": "stream",
     "text": [
      "Epoch 1/10\n",
      "1249/1249 [==============================] - 4751s 4s/step - loss: 0.2782 - jaccard_distance: 0.1693 - val_loss: 0.2504 - val_jaccard_distance: 0.1486\n",
      "\n",
      "Epoch 00001: val_loss improved from inf to 0.25042, saving model to D:\\user_data\\xtrnavska\\dumps\\models\\mod_2.h5\n",
      "Epoch 2/10\n",
      "1249/1249 [==============================] - 1663s 1s/step - loss: 0.2192 - jaccard_distance: 0.1331 - val_loss: 0.2960 - val_jaccard_distance: 0.1267\n",
      "\n",
      "Epoch 00002: val_loss did not improve from 0.25042\n",
      "Epoch 3/10\n",
      "1249/1249 [==============================] - 1684s 1s/step - loss: 0.2027 - jaccard_distance: 0.1233 - val_loss: 0.1456 - val_jaccard_distance: 0.1179\n",
      "\n",
      "Epoch 00003: val_loss improved from 0.25042 to 0.14560, saving model to D:\\user_data\\xtrnavska\\dumps\\models\\mod_2.h5\n",
      "Epoch 4/10\n",
      "1249/1249 [==============================] - 1675s 1s/step - loss: 0.1930 - jaccard_distance: 0.1176 - val_loss: 0.1727 - val_jaccard_distance: 0.1153\n",
      "\n",
      "Epoch 00004: val_loss did not improve from 0.14560\n",
      "Epoch 5/10\n",
      "1249/1249 [==============================] - 1682s 1s/step - loss: 0.1854 - jaccard_distance: 0.1131 - val_loss: 0.1439 - val_jaccard_distance: 0.1128\n",
      "\n",
      "Epoch 00005: val_loss improved from 0.14560 to 0.14392, saving model to D:\\user_data\\xtrnavska\\dumps\\models\\mod_2.h5\n",
      "Epoch 6/10\n",
      "1249/1249 [==============================] - 1686s 1s/step - loss: 0.1794 - jaccard_distance: 0.1094 - val_loss: 0.1841 - val_jaccard_distance: 0.1038\n",
      "\n",
      "Epoch 00006: val_loss did not improve from 0.14392\n",
      "Epoch 7/10\n",
      "1249/1249 [==============================] - 1680s 1s/step - loss: 0.1746 - jaccard_distance: 0.1064 - val_loss: 0.2228 - val_jaccard_distance: 0.1045\n",
      "\n",
      "Epoch 00007: val_loss did not improve from 0.14392\n",
      "Epoch 8/10\n",
      "1249/1249 [==============================] - 1681s 1s/step - loss: 0.1712 - jaccard_distance: 0.1044 - val_loss: 0.1914 - val_jaccard_distance: 0.1044\n",
      "\n",
      "Epoch 00008: val_loss did not improve from 0.14392\n",
      "Epoch 9/10\n",
      "1249/1249 [==============================] - 1694s 1s/step - loss: 0.1681 - jaccard_distance: 0.1025 - val_loss: 0.1897 - val_jaccard_distance: 0.1015\n",
      "\n",
      "Epoch 00009: val_loss did not improve from 0.14392\n",
      "Epoch 10/10\n",
      "1249/1249 [==============================] - 1684s 1s/step - loss: 0.1652 - jaccard_distance: 0.1007 - val_loss: 0.1639 - val_jaccard_distance: 0.0975\n",
      "\n",
      "Epoch 00010: val_loss did not improve from 0.14392\n",
      "Epoch 00010: early stopping\n"
     ]
    }
   ],
   "source": [
    "history = model.fit(training_generator, validation_data=validation_generator, epochs=10, \n",
    "                    callbacks=[earlystopper, checkpointer])"
   ]
  },
  {
   "cell_type": "code",
   "execution_count": 21,
   "metadata": {},
   "outputs": [],
   "source": [
    "import pickle\n",
    "\n",
    "with open('D:\\\\user_data\\\\xtrnavska\\\\dumps\\\\models\\\\' + MODEL_NAME +'_history', 'wb') as file_pi:\n",
    "        pickle.dump(history.history, file_pi)"
   ]
  },
  {
   "cell_type": "code",
   "execution_count": 24,
   "metadata": {},
   "outputs": [
    {
     "data": {
      "text/plain": [
       "dict_keys(['val_loss', 'val_jaccard_distance', 'loss', 'jaccard_distance'])"
      ]
     },
     "execution_count": 24,
     "metadata": {},
     "output_type": "execute_result"
    }
   ],
   "source": [
    "pickle.load(open('D:\\\\user_data\\\\xtrnavska\\\\dumps\\\\models\\\\mod_2_history', \"rb\")).keys()"
   ]
  },
  {
   "cell_type": "code",
   "execution_count": 27,
   "metadata": {},
   "outputs": [
    {
     "data": {
      "image/png": "[encoded data removed]",
      "text/plain": [
       "<Figure size 432x288 with 1 Axes>"
      ]
     },
     "metadata": {
      "needs_background": "light"
     },
     "output_type": "display_data"
    }
   ],
   "source": [
    "plt.plot(history.history['loss'])\n",
    "plt.plot(history.history['val_loss'])\n",
    "plt.xlabel('epochos')\n",
    "plt.ylabel('loss')\n",
    "plt.legend(['train', 'validation'], loc='upper right')\n",
    "plt.show()"
   ]
  },
  {
   "cell_type": "code",
   "execution_count": 28,
   "metadata": {},
   "outputs": [
    {
     "data": {
      "image/png": "[encoded data removed]",
      "text/plain": [
       "<Figure size 432x288 with 1 Axes>"
      ]
     },
     "metadata": {
      "needs_background": "light"
     },
     "output_type": "display_data"
    }
   ],
   "source": [
    "plt.plot(history.history['jaccard_distance'])\n",
    "plt.plot(history.history['val_jaccard_distance'])\n",
    "plt.xlabel('epochos')\n",
    "plt.ylabel('jaccard_distance')\n",
    "plt.legend(['train', 'validation'], loc='upper right')\n",
    "plt.show()"
   ]
  },
  {
   "cell_type": "code",
   "execution_count": 29,
   "metadata": {},
   "outputs": [
    {
     "data": {
      "image/png": "[encoded data removed]",
      "text/plain": [
       "<Figure size 432x288 with 1 Axes>"
      ]
     },
     "metadata": {
      "needs_background": "light"
     },
     "output_type": "display_data"
    }
   ],
   "source": [
    "other_model_hist = pickle.load(open('D:\\\\user_data\\\\xtrnavska\\\\dumps\\\\models\\\\mod_1_history', \"rb\"))\n",
    "\n",
    "plt.plot(other_model_hist['loss'])\n",
    "plt.plot(other_model_hist['val_loss'])\n",
    "plt.xlabel('epochos')\n",
    "plt.ylabel('loss')\n",
    "plt.legend(['train', 'validation'], loc='upper right')\n",
    "plt.show()\n"
   ]
  },
  {
   "cell_type": "code",
   "execution_count": 30,
   "metadata": {},
   "outputs": [
    {
     "data": {
      "image/png": "[encoded data removed]",
      "text/plain": [
       "<Figure size 432x288 with 1 Axes>"
      ]
     },
     "metadata": {
      "needs_background": "light"
     },
     "output_type": "display_data"
    }
   ],
   "source": [
    "plt.plot(other_model_hist['jaccard_distance'])\n",
    "plt.plot(other_model_hist['val_jaccard_distance'])\n",
    "plt.xlabel('epochos')\n",
    "plt.ylabel('jaccard_distance')\n",
    "plt.legend(['train', 'validation'], loc='upper right')\n",
    "plt.show()\n"
   ]
  },
  {
   "cell_type": "code",
   "execution_count": 31,
   "metadata": {},
   "outputs": [
    {
     "data": {
      "text/plain": [
       "12696"
      ]
     },
     "execution_count": 31,
     "metadata": {},
     "output_type": "execute_result"
    }
   ],
   "source": [
    "names = [f for f in os.listdir(TEST_IMG_PATH)]\n",
    "len(names)"
   ]
  },
  {
   "cell_type": "code",
   "execution_count": 32,
   "metadata": {},
   "outputs": [],
   "source": [
    "test_imgs =  np.zeros((len(names), PATCH_HEIGHT, PATCH_WIDTH, PATCH_CHANNELS), dtype=np.uint8)\n",
    "test_imgs[i] = cv2.imread(TEST_IMG_PATH + name) for i,name in enumerate(names)"
   ]
  },
  {
   "cell_type": "markdown",
   "metadata": {},
   "source": [
    "# dotrenovanie"
   ]
  },
  {
   "cell_type": "code",
   "execution_count": 29,
   "metadata": {},
   "outputs": [
    {
     "name": "stdout",
     "output_type": "stream",
     "text": [
      "Model: \"model_2\"\n",
      "__________________________________________________________________________________________________\n",
      "Layer (type)                    Output Shape         Param #     Connected to                     \n",
      "==================================================================================================\n",
      "input_2 (InputLayer)            (None, 128, 128, 3)  0                                            \n",
      "__________________________________________________________________________________________________\n",
      "lambda_2 (Lambda)               (None, 128, 128, 3)  0           input_2[0][0]                    \n",
      "__________________________________________________________________________________________________\n",
      "conv2d_20 (Conv2D)              (None, 128, 128, 16) 448         lambda_2[0][0]                   \n",
      "__________________________________________________________________________________________________\n",
      "dropout_10 (Dropout)            (None, 128, 128, 16) 0           conv2d_20[0][0]                  \n",
      "__________________________________________________________________________________________________\n",
      "conv2d_21 (Conv2D)              (None, 128, 128, 16) 2320        dropout_10[0][0]                 \n",
      "__________________________________________________________________________________________________\n",
      "max_pooling2d_5 (MaxPooling2D)  (None, 64, 64, 16)   0           conv2d_21[0][0]                  \n",
      "__________________________________________________________________________________________________\n",
      "conv2d_22 (Conv2D)              (None, 64, 64, 32)   4640        max_pooling2d_5[0][0]            \n",
      "__________________________________________________________________________________________________\n",
      "dropout_11 (Dropout)            (None, 64, 64, 32)   0           conv2d_22[0][0]                  \n",
      "__________________________________________________________________________________________________\n",
      "conv2d_23 (Conv2D)              (None, 64, 64, 32)   9248        dropout_11[0][0]                 \n",
      "__________________________________________________________________________________________________\n",
      "max_pooling2d_6 (MaxPooling2D)  (None, 32, 32, 32)   0           conv2d_23[0][0]                  \n",
      "__________________________________________________________________________________________________\n",
      "conv2d_24 (Conv2D)              (None, 32, 32, 64)   18496       max_pooling2d_6[0][0]            \n",
      "__________________________________________________________________________________________________\n",
      "dropout_12 (Dropout)            (None, 32, 32, 64)   0           conv2d_24[0][0]                  \n",
      "__________________________________________________________________________________________________\n",
      "conv2d_25 (Conv2D)              (None, 32, 32, 64)   36928       dropout_12[0][0]                 \n",
      "__________________________________________________________________________________________________\n",
      "max_pooling2d_7 (MaxPooling2D)  (None, 16, 16, 64)   0           conv2d_25[0][0]                  \n",
      "__________________________________________________________________________________________________\n",
      "conv2d_26 (Conv2D)              (None, 16, 16, 128)  73856       max_pooling2d_7[0][0]            \n",
      "__________________________________________________________________________________________________\n",
      "dropout_13 (Dropout)            (None, 16, 16, 128)  0           conv2d_26[0][0]                  \n",
      "__________________________________________________________________________________________________\n",
      "conv2d_27 (Conv2D)              (None, 16, 16, 128)  147584      dropout_13[0][0]                 \n",
      "__________________________________________________________________________________________________\n",
      "max_pooling2d_8 (MaxPooling2D)  (None, 8, 8, 128)    0           conv2d_27[0][0]                  \n",
      "__________________________________________________________________________________________________\n",
      "conv2d_28 (Conv2D)              (None, 8, 8, 256)    295168      max_pooling2d_8[0][0]            \n",
      "__________________________________________________________________________________________________\n",
      "dropout_14 (Dropout)            (None, 8, 8, 256)    0           conv2d_28[0][0]                  \n",
      "__________________________________________________________________________________________________\n",
      "conv2d_29 (Conv2D)              (None, 8, 8, 256)    590080      dropout_14[0][0]                 \n",
      "__________________________________________________________________________________________________\n",
      "conv2d_transpose_5 (Conv2DTrans (None, 16, 16, 128)  131200      conv2d_29[0][0]                  \n",
      "__________________________________________________________________________________________________\n",
      "concatenate_5 (Concatenate)     (None, 16, 16, 256)  0           conv2d_transpose_5[0][0]         \n",
      "                                                                 conv2d_27[0][0]                  \n",
      "__________________________________________________________________________________________________\n",
      "conv2d_30 (Conv2D)              (None, 16, 16, 128)  295040      concatenate_5[0][0]              \n",
      "__________________________________________________________________________________________________\n",
      "dropout_15 (Dropout)            (None, 16, 16, 128)  0           conv2d_30[0][0]                  \n",
      "__________________________________________________________________________________________________\n",
      "conv2d_31 (Conv2D)              (None, 16, 16, 128)  147584      dropout_15[0][0]                 \n",
      "__________________________________________________________________________________________________\n",
      "conv2d_transpose_6 (Conv2DTrans (None, 32, 32, 64)   32832       conv2d_31[0][0]                  \n",
      "__________________________________________________________________________________________________\n",
      "concatenate_6 (Concatenate)     (None, 32, 32, 128)  0           conv2d_transpose_6[0][0]         \n",
      "                                                                 conv2d_25[0][0]                  \n",
      "__________________________________________________________________________________________________\n",
      "conv2d_32 (Conv2D)              (None, 32, 32, 64)   73792       concatenate_6[0][0]              \n",
      "__________________________________________________________________________________________________\n",
      "dropout_16 (Dropout)            (None, 32, 32, 64)   0           conv2d_32[0][0]                  \n",
      "__________________________________________________________________________________________________\n",
      "conv2d_33 (Conv2D)              (None, 32, 32, 64)   36928       dropout_16[0][0]                 \n",
      "__________________________________________________________________________________________________\n",
      "conv2d_transpose_7 (Conv2DTrans (None, 64, 64, 32)   8224        conv2d_33[0][0]                  \n",
      "__________________________________________________________________________________________________\n",
      "concatenate_7 (Concatenate)     (None, 64, 64, 64)   0           conv2d_transpose_7[0][0]         \n",
      "                                                                 conv2d_23[0][0]                  \n",
      "__________________________________________________________________________________________________\n",
      "conv2d_34 (Conv2D)              (None, 64, 64, 32)   18464       concatenate_7[0][0]              \n",
      "__________________________________________________________________________________________________\n",
      "dropout_17 (Dropout)            (None, 64, 64, 32)   0           conv2d_34[0][0]                  \n",
      "__________________________________________________________________________________________________\n",
      "conv2d_35 (Conv2D)              (None, 64, 64, 32)   9248        dropout_17[0][0]                 \n",
      "__________________________________________________________________________________________________\n",
      "conv2d_transpose_8 (Conv2DTrans (None, 128, 128, 16) 2064        conv2d_35[0][0]                  \n",
      "__________________________________________________________________________________________________\n",
      "concatenate_8 (Concatenate)     (None, 128, 128, 32) 0           conv2d_transpose_8[0][0]         \n",
      "                                                                 conv2d_21[0][0]                  \n",
      "__________________________________________________________________________________________________\n",
      "conv2d_36 (Conv2D)              (None, 128, 128, 16) 4624        concatenate_8[0][0]              \n",
      "__________________________________________________________________________________________________\n",
      "dropout_18 (Dropout)            (None, 128, 128, 16) 0           conv2d_36[0][0]                  \n",
      "__________________________________________________________________________________________________\n",
      "conv2d_37 (Conv2D)              (None, 128, 128, 16) 2320        dropout_18[0][0]                 \n",
      "__________________________________________________________________________________________________\n",
      "conv2d_38 (Conv2D)              (None, 128, 128, 1)  17          conv2d_37[0][0]                  \n",
      "==================================================================================================\n",
      "Total params: 1,941,105\n",
      "Trainable params: 1,941,105\n",
      "Non-trainable params: 0\n",
      "__________________________________________________________________________________________________\n"
     ]
    }
   ],
   "source": [
    "model.load_weights(MODEL_PATH + 'mod_1.h5')\n",
    "model.compile(optimizer='adam', loss='binary_crossentropy', metrics=[jaccard_distance])\n",
    "model.summary()"
   ]
  },
  {
   "cell_type": "code",
   "execution_count": null,
   "metadata": {},
   "outputs": [
    {
     "name": "stdout",
     "output_type": "stream",
     "text": [
      "Epoch 1/10\n",
      " 296/1249 [======>.......................] - ETA: 24:16 - loss: 0.1993 - jaccard_distance: 0.1212"
     ]
    }
   ],
   "source": [
    "history = model.fit(training_generator, validation_data=validation_generator, epochs=10, \n",
    "                    callbacks=[earlystopper, checkpointer])"
   ]
  },
  {
   "cell_type": "code",
   "execution_count": null,
   "metadata": {},
   "outputs": [],
   "source": [
    "import pickle\n",
    "\n",
    "with open('D:\\\\user_data\\\\xtrnavska\\\\dumps\\\\models\\\\' + MODEL_NAME +'_history', 'wb') as file_pi:\n",
    "        pickle.dump(history.history, file_pi)"
   ]
  },
  {
   "cell_type": "code",
   "execution_count": null,
   "metadata": {},
   "outputs": [],
   "source": []
  }
 ],
 "metadata": {
  "colab": {
   "collapsed_sections": [
    "i0AgFT2S5jW3",
    "reQ1kqByqVai",
    "eGcFQKQRQQRF"
   ],
   "name": "multiaugmentation.ipynb",
   "provenance": [],
   "toc_visible": true
  },
  "kernelspec": {
   "display_name": "Python 3",
   "language": "python",
   "name": "python3"
  },
  "language_info": {
   "codemirror_mode": {
    "name": "ipython",
    "version": 3
   },
   "file_extension": ".py",
   "mimetype": "text/x-python",
   "name": "python",
   "nbconvert_exporter": "python",
   "pygments_lexer": "ipython3",
   "version": "3.7.6"
  },
  "pycharm": {
   "stem_cell": {
    "cell_type": "raw",
    "metadata": {
     "collapsed": false
    },
    "source": []
   }
  }
 },
 "nbformat": 4,
 "nbformat_minor": 1
}
