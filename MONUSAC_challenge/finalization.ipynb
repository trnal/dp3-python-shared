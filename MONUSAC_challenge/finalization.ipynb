{
 "cells": [
  {
   "cell_type": "code",
   "execution_count": 5,
   "metadata": {},
   "outputs": [
    {
     "name": "stdout",
     "output_type": "stream",
     "text": [
      "The autoreload extension is already loaded. To reload it, use:\n",
      "  %reload_ext autoreload\n"
     ]
    }
   ],
   "source": [
    "%load_ext autoreload\n",
    "%autoreload 2"
   ]
  },
  {
   "cell_type": "code",
   "execution_count": 125,
   "metadata": {},
   "outputs": [],
   "source": [
    "# This is the test code to predict different cell classes\n",
    "# Author Trnal (for MoNuSAC challenge 2020)\n",
    "\n",
    "import cv2\n",
    "import numpy as np\n",
    "import pandas as pd\n",
    "import matplotlib.pyplot as plt\n",
    "from glob import glob\n",
    "import scipy.io\n",
    "import openslide\n",
    "from openslide import open_slide  \n",
    "\n",
    "import os\n",
    "import sys\n",
    "\n",
    "sys.path.append(os.path.dirname(os.getcwd()))\n",
    "\n",
    "from custom import *\n",
    "\n",
    "#\n",
    "# ------------- IMPORTANT -----------------\n",
    "# these paths need to be set before running the program\n",
    "# save_as_mat - if false results will be stored as .tif images\n",
    "#\n",
    "data_path = MONUSAC_DATA\n",
    "dest_path = os.path.dirname(os.getcwd()) + '/monusac_results/'\n",
    "MODELS_PATH = os.path.dirname(os.getcwd()) + '/models/'\n",
    "save_as_mat = True\n",
    "\n",
    "\n",
    "\n",
    "create_folder(dest_path)\n",
    "\n",
    "\n",
    "model_epi = base_model(verbose=False)\n",
    "model_epi.load_weights(MODELS_PATH + 'MNS_epitel.h5')\n",
    "\n",
    "model_lym = base_model(verbose=False)\n",
    "model_lym.load_weights(MODELS_PATH + 'MNS_lymph.h5')\n",
    "\n",
    "model_mac = base_model(verbose=False)\n",
    "model_mac.load_weights(MODELS_PATH + 'MNS_macro.h5')\n",
    "\n",
    "model_neu = base_model(verbose=False)\n",
    "model_neu.load_weights(MODELS_PATH + 'MNS_neutro.h5')\n",
    "\n",
    "\n",
    "\n",
    "patients = [x[0] for x in os.walk(data_path)]\n",
    "if data_path in patients: patients.remove(data_path)\n",
    "\n",
    "for patient in patients[:1]:\n",
    "    \n",
    "    patient_name = patient[len(data_path)+1:]#Patient name\n",
    "    print(patient_name)\n",
    "    \n",
    "    #create patient directory\n",
    "    create_folder(dest_path + patient_name)\n",
    "    \n",
    "    #for each image in patient\n",
    "    sub_images = glob(patient+'/*.svs')\n",
    "    for sub_image in sub_images:\n",
    "    \n",
    "        # convert to tif if needed\n",
    "        if not os.path.isfile(sub_image[:-4] + '.tif'):\n",
    "            img = openslide.OpenSlide(sub_name)\n",
    "            cv2.imwrite(sub_image_loc[:-4]+'.tif', np.array(img.read_region((0,0),0,img.level_dimensions[0])))\n",
    "        \n",
    "        sub_image_name = sub_image[len(patient)+1:]\n",
    "        dest_subimage = dest_path + patient_name + '/' + sub_image_name[:-4] + '/'\n",
    "        \n",
    "        #load image\n",
    "        img = cv2.imread(sub_image[:-4] + '.tif')\n",
    "        \n",
    "        #create subimage directory and class directories in it\n",
    "        create_folder(dest_subimage)\n",
    "        \n",
    "        create_folder(dest_subimage + 'Epithelial')\n",
    "        create_folder(dest_subimage + 'Lymphocyte')\n",
    "        create_folder(dest_subimage + 'Macrophage')\n",
    "        create_folder(dest_subimage + 'Neutrophil')\n",
    "        \n",
    "        # get predictions\n",
    "        epi_p, lym_p, mac_p, neu_p =  predict_all_classes(img, model_epi, model_lym, model_mac, model_neu)\n",
    "        \n",
    "        #create masks from predictions\n",
    "        epi = create_mask(epi_p, size_limit=50)\n",
    "        lym = create_mask(lym_p, size_limit=50)\n",
    "        mac = create_mask(mac_p, size_limit=50)\n",
    "        neu = create_mask(neu_p, size_limit=50)\n",
    "        \n",
    "        # save results\n",
    "        if save_as_mat:\n",
    "            scipy.io.savemat(dest_subimage + 'Epithelial/' + sub_image_name[:-4] + '.mat', {epi.dtype.name: epi})\n",
    "            scipy.io.savemat(dest_subimage + 'Lymphocyte/' + sub_image_name[:-4] + '.mat', {lym.dtype.name: lym})\n",
    "            scipy.io.savemat(dest_subimage + 'Macrophage/' + sub_image_name[:-4] + '.mat', {mac.dtype.name: mac})\n",
    "            scipy.io.savemat(dest_subimage + 'Neutrophil/' + sub_image_name[:-4] + '.mat', {epi.dtype.name: neu})\n",
    "        else:\n",
    "            cv2.imwrite(dest_subimage + 'Epithelial/' + sub_image_name[:-4]+'.tif', epi)\n",
    "            cv2.imwrite(dest_subimage + 'Lymphocyte/' + sub_image_name[:-4]+'.tif', lym)\n",
    "            cv2.imwrite(dest_subimage + 'Macrophage/' + sub_image_name[:-4]+'.tif', mac)\n",
    "            cv2.imwrite(dest_subimage + 'Neutrophil/' + sub_image_name[:-4]+'.tif', neu)\n",
    "            \n"
   ]
  },
  {
   "cell_type": "code",
   "execution_count": 79,
   "metadata": {},
   "outputs": [],
   "source": []
  },
  {
   "cell_type": "code",
   "execution_count": 103,
   "metadata": {},
   "outputs": [],
   "source": []
  },
  {
   "cell_type": "code",
   "execution_count": 117,
   "metadata": {},
   "outputs": [
    {
     "name": "stdout",
     "output_type": "stream",
     "text": [
      "46\n"
     ]
    }
   ],
   "source": [
    "data_path = MONUSAC_DATA\n",
    "\n",
    "patients = [x[0] for x in os.walk(data_path)]\n",
    "if data_path in patients: patients.remove(data_path)\n",
    "print(len(patients))"
   ]
  },
  {
   "cell_type": "code",
   "execution_count": 122,
   "metadata": {},
   "outputs": [],
   "source": [
    "dest_path = os.path.dirname(os.getcwd()) + '/monusac_results/'"
   ]
  },
  {
   "cell_type": "code",
   "execution_count": 144,
   "metadata": {},
   "outputs": [
    {
     "name": "stdout",
     "output_type": "stream",
     "text": [
      "CGA-73-4668-01Z-00-DX1\n"
     ]
    },
    {
     "ename": "KeyboardInterrupt",
     "evalue": "",
     "output_type": "error",
     "traceback": [
      "\u001b[0;31m---------------------------------------------------------------------------\u001b[0m",
      "\u001b[0;31mKeyboardInterrupt\u001b[0m                         Traceback (most recent call last)",
      "\u001b[0;32m<ipython-input-144-3b1a9474ae64>\u001b[0m in \u001b[0;36m<module>\u001b[0;34m\u001b[0m\n\u001b[1;32m     32\u001b[0m         \u001b[0mcreate_folder\u001b[0m\u001b[0;34m(\u001b[0m\u001b[0mdest_subimage\u001b[0m \u001b[0;34m+\u001b[0m \u001b[0;34m'Neutrophil'\u001b[0m\u001b[0;34m)\u001b[0m\u001b[0;34m\u001b[0m\u001b[0;34m\u001b[0m\u001b[0m\n\u001b[1;32m     33\u001b[0m \u001b[0;34m\u001b[0m\u001b[0m\n\u001b[0;32m---> 34\u001b[0;31m         \u001b[0mepi_p\u001b[0m\u001b[0;34m,\u001b[0m \u001b[0mlym_p\u001b[0m\u001b[0;34m,\u001b[0m \u001b[0mmac_p\u001b[0m\u001b[0;34m,\u001b[0m \u001b[0mneu_p\u001b[0m \u001b[0;34m=\u001b[0m  \u001b[0mpredict_all_classes\u001b[0m\u001b[0;34m(\u001b[0m\u001b[0mimg\u001b[0m\u001b[0;34m)\u001b[0m\u001b[0;34m\u001b[0m\u001b[0;34m\u001b[0m\u001b[0m\n\u001b[0m\u001b[1;32m     35\u001b[0m \u001b[0;34m\u001b[0m\u001b[0m\n\u001b[1;32m     36\u001b[0m         \u001b[0mcv2\u001b[0m\u001b[0;34m.\u001b[0m\u001b[0mimwrite\u001b[0m\u001b[0;34m(\u001b[0m\u001b[0mdest_subimage\u001b[0m \u001b[0;34m+\u001b[0m \u001b[0;34m'Epithelial/'\u001b[0m \u001b[0;34m+\u001b[0m \u001b[0msub_image_name\u001b[0m\u001b[0;34m[\u001b[0m\u001b[0;34m:\u001b[0m\u001b[0;34m-\u001b[0m\u001b[0;36m4\u001b[0m\u001b[0;34m]\u001b[0m\u001b[0;34m+\u001b[0m\u001b[0;34m'.tif'\u001b[0m\u001b[0;34m,\u001b[0m \u001b[0mcreate_mask\u001b[0m\u001b[0;34m(\u001b[0m\u001b[0mepi_p\u001b[0m\u001b[0;34m,\u001b[0m \u001b[0msize_limit\u001b[0m\u001b[0;34m=\u001b[0m\u001b[0;36m50\u001b[0m\u001b[0;34m)\u001b[0m\u001b[0;34m)\u001b[0m\u001b[0;34m\u001b[0m\u001b[0;34m\u001b[0m\u001b[0m\n",
      "\u001b[0;32m<ipython-input-142-7fb331c3d4cc>\u001b[0m in \u001b[0;36mpredict_all_classes\u001b[0;34m(img)\u001b[0m\n\u001b[1;32m      1\u001b[0m \u001b[0;31m# compare predictions\u001b[0m\u001b[0;34m\u001b[0m\u001b[0;34m\u001b[0m\u001b[0;34m\u001b[0m\u001b[0m\n\u001b[1;32m      2\u001b[0m \u001b[0;32mdef\u001b[0m \u001b[0mpredict_all_classes\u001b[0m\u001b[0;34m(\u001b[0m\u001b[0mimg\u001b[0m\u001b[0;34m)\u001b[0m\u001b[0;34m:\u001b[0m\u001b[0;34m\u001b[0m\u001b[0;34m\u001b[0m\u001b[0m\n\u001b[0;32m----> 3\u001b[0;31m     \u001b[0mpred_result_epi\u001b[0m \u001b[0;34m=\u001b[0m \u001b[0mcollect_output\u001b[0m\u001b[0;34m(\u001b[0m\u001b[0mmodel_epi\u001b[0m\u001b[0;34m,\u001b[0m \u001b[0mimg\u001b[0m\u001b[0;34m,\u001b[0m \u001b[0mstride\u001b[0m\u001b[0;34m=\u001b[0m\u001b[0;36m32\u001b[0m\u001b[0;34m,\u001b[0m \u001b[0mpadding\u001b[0m\u001b[0;34m=\u001b[0m\u001b[0;36m8\u001b[0m\u001b[0;34m)\u001b[0m\u001b[0;34m\u001b[0m\u001b[0;34m\u001b[0m\u001b[0m\n\u001b[0m\u001b[1;32m      4\u001b[0m     \u001b[0mpred_result_neu\u001b[0m \u001b[0;34m=\u001b[0m \u001b[0mcollect_output\u001b[0m\u001b[0;34m(\u001b[0m\u001b[0mmodel_neu\u001b[0m\u001b[0;34m,\u001b[0m \u001b[0mimg\u001b[0m\u001b[0;34m,\u001b[0m \u001b[0mstride\u001b[0m\u001b[0;34m=\u001b[0m\u001b[0;36m32\u001b[0m\u001b[0;34m,\u001b[0m \u001b[0mpadding\u001b[0m\u001b[0;34m=\u001b[0m\u001b[0;36m8\u001b[0m\u001b[0;34m)\u001b[0m\u001b[0;34m\u001b[0m\u001b[0;34m\u001b[0m\u001b[0m\n\u001b[1;32m      5\u001b[0m     \u001b[0mpred_result_lym\u001b[0m \u001b[0;34m=\u001b[0m \u001b[0mcollect_output\u001b[0m\u001b[0;34m(\u001b[0m\u001b[0mmodel_lym\u001b[0m\u001b[0;34m,\u001b[0m \u001b[0mimg\u001b[0m\u001b[0;34m,\u001b[0m \u001b[0mstride\u001b[0m\u001b[0;34m=\u001b[0m\u001b[0;36m32\u001b[0m\u001b[0;34m,\u001b[0m \u001b[0mpadding\u001b[0m\u001b[0;34m=\u001b[0m\u001b[0;36m8\u001b[0m\u001b[0;34m)\u001b[0m\u001b[0;34m\u001b[0m\u001b[0;34m\u001b[0m\u001b[0m\n",
      "\u001b[0;32m~/Desktop/SKOLA/DP/Code/bla/masks.py\u001b[0m in \u001b[0;36mcollect_output\u001b[0;34m(model, img, stride, patch_size, padding)\u001b[0m\n\u001b[1;32m     25\u001b[0m \u001b[0;34m\u001b[0m\u001b[0m\n\u001b[1;32m     26\u001b[0m             \u001b[0mcrop\u001b[0m \u001b[0;34m=\u001b[0m \u001b[0mimg\u001b[0m\u001b[0;34m[\u001b[0m\u001b[0mi\u001b[0m\u001b[0;34m:\u001b[0m \u001b[0mi\u001b[0m \u001b[0;34m+\u001b[0m \u001b[0mpatch_size\u001b[0m\u001b[0;34m,\u001b[0m \u001b[0mj\u001b[0m\u001b[0;34m:\u001b[0m \u001b[0mj\u001b[0m \u001b[0;34m+\u001b[0m \u001b[0mpatch_size\u001b[0m\u001b[0;34m]\u001b[0m\u001b[0;34m\u001b[0m\u001b[0;34m\u001b[0m\u001b[0m\n\u001b[0;32m---> 27\u001b[0;31m             \u001b[0mpredicted\u001b[0m \u001b[0;34m=\u001b[0m \u001b[0mmodel\u001b[0m\u001b[0;34m.\u001b[0m\u001b[0mpredict\u001b[0m\u001b[0;34m(\u001b[0m\u001b[0mnp\u001b[0m\u001b[0;34m.\u001b[0m\u001b[0mexpand_dims\u001b[0m\u001b[0;34m(\u001b[0m\u001b[0mcrop\u001b[0m\u001b[0;34m,\u001b[0m \u001b[0maxis\u001b[0m\u001b[0;34m=\u001b[0m\u001b[0;36m0\u001b[0m\u001b[0;34m)\u001b[0m\u001b[0;34m)\u001b[0m\u001b[0;34m\u001b[0m\u001b[0;34m\u001b[0m\u001b[0m\n\u001b[0m\u001b[1;32m     28\u001b[0m \u001b[0;34m\u001b[0m\u001b[0m\n\u001b[1;32m     29\u001b[0m             \u001b[0mpadded_prediction\u001b[0m \u001b[0;34m=\u001b[0m \u001b[0mnp\u001b[0m\u001b[0;34m.\u001b[0m\u001b[0msqueeze\u001b[0m\u001b[0;34m(\u001b[0m\u001b[0mpredicted\u001b[0m\u001b[0;34m)\u001b[0m\u001b[0;34m[\u001b[0m\u001b[0mxs\u001b[0m \u001b[0;34m:\u001b[0m \u001b[0mxe\u001b[0m\u001b[0;34m,\u001b[0m \u001b[0mys\u001b[0m \u001b[0;34m:\u001b[0m \u001b[0mye\u001b[0m\u001b[0;34m]\u001b[0m\u001b[0;34m\u001b[0m\u001b[0;34m\u001b[0m\u001b[0m\n",
      "\u001b[0;32m~/anaconda3/envs/bla/lib/python3.7/site-packages/keras/engine/training.py\u001b[0m in \u001b[0;36mpredict\u001b[0;34m(self, x, batch_size, verbose, steps, callbacks, max_queue_size, workers, use_multiprocessing)\u001b[0m\n\u001b[1;32m   1460\u001b[0m                                             \u001b[0mverbose\u001b[0m\u001b[0;34m=\u001b[0m\u001b[0mverbose\u001b[0m\u001b[0;34m,\u001b[0m\u001b[0;34m\u001b[0m\u001b[0;34m\u001b[0m\u001b[0m\n\u001b[1;32m   1461\u001b[0m                                             \u001b[0msteps\u001b[0m\u001b[0;34m=\u001b[0m\u001b[0msteps\u001b[0m\u001b[0;34m,\u001b[0m\u001b[0;34m\u001b[0m\u001b[0;34m\u001b[0m\u001b[0m\n\u001b[0;32m-> 1462\u001b[0;31m                                             callbacks=callbacks)\n\u001b[0m\u001b[1;32m   1463\u001b[0m \u001b[0;34m\u001b[0m\u001b[0m\n\u001b[1;32m   1464\u001b[0m     def train_on_batch(self, x, y,\n",
      "\u001b[0;32m~/anaconda3/envs/bla/lib/python3.7/site-packages/keras/engine/training_arrays.py\u001b[0m in \u001b[0;36mpredict_loop\u001b[0;34m(model, f, ins, batch_size, verbose, steps, callbacks)\u001b[0m\n\u001b[1;32m    322\u001b[0m             \u001b[0mbatch_logs\u001b[0m \u001b[0;34m=\u001b[0m \u001b[0;34m{\u001b[0m\u001b[0;34m'batch'\u001b[0m\u001b[0;34m:\u001b[0m \u001b[0mbatch_index\u001b[0m\u001b[0;34m,\u001b[0m \u001b[0;34m'size'\u001b[0m\u001b[0;34m:\u001b[0m \u001b[0mlen\u001b[0m\u001b[0;34m(\u001b[0m\u001b[0mbatch_ids\u001b[0m\u001b[0;34m)\u001b[0m\u001b[0;34m}\u001b[0m\u001b[0;34m\u001b[0m\u001b[0;34m\u001b[0m\u001b[0m\n\u001b[1;32m    323\u001b[0m             \u001b[0mcallbacks\u001b[0m\u001b[0;34m.\u001b[0m\u001b[0m_call_batch_hook\u001b[0m\u001b[0;34m(\u001b[0m\u001b[0;34m'predict'\u001b[0m\u001b[0;34m,\u001b[0m \u001b[0;34m'begin'\u001b[0m\u001b[0;34m,\u001b[0m \u001b[0mbatch_index\u001b[0m\u001b[0;34m,\u001b[0m \u001b[0mbatch_logs\u001b[0m\u001b[0;34m)\u001b[0m\u001b[0;34m\u001b[0m\u001b[0;34m\u001b[0m\u001b[0m\n\u001b[0;32m--> 324\u001b[0;31m             \u001b[0mbatch_outs\u001b[0m \u001b[0;34m=\u001b[0m \u001b[0mf\u001b[0m\u001b[0;34m(\u001b[0m\u001b[0mins_batch\u001b[0m\u001b[0;34m)\u001b[0m\u001b[0;34m\u001b[0m\u001b[0;34m\u001b[0m\u001b[0m\n\u001b[0m\u001b[1;32m    325\u001b[0m             \u001b[0mbatch_outs\u001b[0m \u001b[0;34m=\u001b[0m \u001b[0mto_list\u001b[0m\u001b[0;34m(\u001b[0m\u001b[0mbatch_outs\u001b[0m\u001b[0;34m)\u001b[0m\u001b[0;34m\u001b[0m\u001b[0;34m\u001b[0m\u001b[0m\n\u001b[1;32m    326\u001b[0m             \u001b[0;32mif\u001b[0m \u001b[0mbatch_index\u001b[0m \u001b[0;34m==\u001b[0m \u001b[0;36m0\u001b[0m\u001b[0;34m:\u001b[0m\u001b[0;34m\u001b[0m\u001b[0;34m\u001b[0m\u001b[0m\n",
      "\u001b[0;32m~/anaconda3/envs/bla/lib/python3.7/site-packages/tensorflow_core/python/keras/backend.py\u001b[0m in \u001b[0;36m__call__\u001b[0;34m(self, inputs)\u001b[0m\n\u001b[1;32m   3725\u001b[0m         \u001b[0mvalue\u001b[0m \u001b[0;34m=\u001b[0m \u001b[0mmath_ops\u001b[0m\u001b[0;34m.\u001b[0m\u001b[0mcast\u001b[0m\u001b[0;34m(\u001b[0m\u001b[0mvalue\u001b[0m\u001b[0;34m,\u001b[0m \u001b[0mtensor\u001b[0m\u001b[0;34m.\u001b[0m\u001b[0mdtype\u001b[0m\u001b[0;34m)\u001b[0m\u001b[0;34m\u001b[0m\u001b[0;34m\u001b[0m\u001b[0m\n\u001b[1;32m   3726\u001b[0m       \u001b[0mconverted_inputs\u001b[0m\u001b[0;34m.\u001b[0m\u001b[0mappend\u001b[0m\u001b[0;34m(\u001b[0m\u001b[0mvalue\u001b[0m\u001b[0;34m)\u001b[0m\u001b[0;34m\u001b[0m\u001b[0;34m\u001b[0m\u001b[0m\n\u001b[0;32m-> 3727\u001b[0;31m     \u001b[0moutputs\u001b[0m \u001b[0;34m=\u001b[0m \u001b[0mself\u001b[0m\u001b[0;34m.\u001b[0m\u001b[0m_graph_fn\u001b[0m\u001b[0;34m(\u001b[0m\u001b[0;34m*\u001b[0m\u001b[0mconverted_inputs\u001b[0m\u001b[0;34m)\u001b[0m\u001b[0;34m\u001b[0m\u001b[0;34m\u001b[0m\u001b[0m\n\u001b[0m\u001b[1;32m   3728\u001b[0m \u001b[0;34m\u001b[0m\u001b[0m\n\u001b[1;32m   3729\u001b[0m     \u001b[0;31m# EagerTensor.numpy() will often make a copy to ensure memory safety.\u001b[0m\u001b[0;34m\u001b[0m\u001b[0;34m\u001b[0m\u001b[0;34m\u001b[0m\u001b[0m\n",
      "\u001b[0;32m~/anaconda3/envs/bla/lib/python3.7/site-packages/tensorflow_core/python/eager/function.py\u001b[0m in \u001b[0;36m__call__\u001b[0;34m(self, *args, **kwargs)\u001b[0m\n\u001b[1;32m   1549\u001b[0m       \u001b[0mTypeError\u001b[0m\u001b[0;34m:\u001b[0m \u001b[0mFor\u001b[0m \u001b[0minvalid\u001b[0m \u001b[0mpositional\u001b[0m\u001b[0;34m/\u001b[0m\u001b[0mkeyword\u001b[0m \u001b[0margument\u001b[0m \u001b[0mcombinations\u001b[0m\u001b[0;34m.\u001b[0m\u001b[0;34m\u001b[0m\u001b[0;34m\u001b[0m\u001b[0m\n\u001b[1;32m   1550\u001b[0m     \"\"\"\n\u001b[0;32m-> 1551\u001b[0;31m     \u001b[0;32mreturn\u001b[0m \u001b[0mself\u001b[0m\u001b[0;34m.\u001b[0m\u001b[0m_call_impl\u001b[0m\u001b[0;34m(\u001b[0m\u001b[0margs\u001b[0m\u001b[0;34m,\u001b[0m \u001b[0mkwargs\u001b[0m\u001b[0;34m)\u001b[0m\u001b[0;34m\u001b[0m\u001b[0;34m\u001b[0m\u001b[0m\n\u001b[0m\u001b[1;32m   1552\u001b[0m \u001b[0;34m\u001b[0m\u001b[0m\n\u001b[1;32m   1553\u001b[0m   \u001b[0;32mdef\u001b[0m \u001b[0m_call_impl\u001b[0m\u001b[0;34m(\u001b[0m\u001b[0mself\u001b[0m\u001b[0;34m,\u001b[0m \u001b[0margs\u001b[0m\u001b[0;34m,\u001b[0m \u001b[0mkwargs\u001b[0m\u001b[0;34m,\u001b[0m \u001b[0mcancellation_manager\u001b[0m\u001b[0;34m=\u001b[0m\u001b[0;32mNone\u001b[0m\u001b[0;34m)\u001b[0m\u001b[0;34m:\u001b[0m\u001b[0;34m\u001b[0m\u001b[0;34m\u001b[0m\u001b[0m\n",
      "\u001b[0;32m~/anaconda3/envs/bla/lib/python3.7/site-packages/tensorflow_core/python/eager/function.py\u001b[0m in \u001b[0;36m_call_impl\u001b[0;34m(self, args, kwargs, cancellation_manager)\u001b[0m\n\u001b[1;32m   1589\u001b[0m       raise TypeError(\"Keyword arguments {} unknown. Expected {}.\".format(\n\u001b[1;32m   1590\u001b[0m           list(kwargs.keys()), list(self._arg_keywords)))\n\u001b[0;32m-> 1591\u001b[0;31m     \u001b[0;32mreturn\u001b[0m \u001b[0mself\u001b[0m\u001b[0;34m.\u001b[0m\u001b[0m_call_flat\u001b[0m\u001b[0;34m(\u001b[0m\u001b[0margs\u001b[0m\u001b[0;34m,\u001b[0m \u001b[0mself\u001b[0m\u001b[0;34m.\u001b[0m\u001b[0mcaptured_inputs\u001b[0m\u001b[0;34m,\u001b[0m \u001b[0mcancellation_manager\u001b[0m\u001b[0;34m)\u001b[0m\u001b[0;34m\u001b[0m\u001b[0;34m\u001b[0m\u001b[0m\n\u001b[0m\u001b[1;32m   1592\u001b[0m \u001b[0;34m\u001b[0m\u001b[0m\n\u001b[1;32m   1593\u001b[0m   \u001b[0;32mdef\u001b[0m \u001b[0m_filtered_call\u001b[0m\u001b[0;34m(\u001b[0m\u001b[0mself\u001b[0m\u001b[0;34m,\u001b[0m \u001b[0margs\u001b[0m\u001b[0;34m,\u001b[0m \u001b[0mkwargs\u001b[0m\u001b[0;34m)\u001b[0m\u001b[0;34m:\u001b[0m\u001b[0;34m\u001b[0m\u001b[0;34m\u001b[0m\u001b[0m\n",
      "\u001b[0;32m~/anaconda3/envs/bla/lib/python3.7/site-packages/tensorflow_core/python/eager/function.py\u001b[0m in \u001b[0;36m_call_flat\u001b[0;34m(self, args, captured_inputs, cancellation_manager)\u001b[0m\n\u001b[1;32m   1690\u001b[0m       \u001b[0;31m# No tape is watching; skip to running the function.\u001b[0m\u001b[0;34m\u001b[0m\u001b[0;34m\u001b[0m\u001b[0;34m\u001b[0m\u001b[0m\n\u001b[1;32m   1691\u001b[0m       return self._build_call_outputs(self._inference_function.call(\n\u001b[0;32m-> 1692\u001b[0;31m           ctx, args, cancellation_manager=cancellation_manager))\n\u001b[0m\u001b[1;32m   1693\u001b[0m     forward_backward = self._select_forward_and_backward_functions(\n\u001b[1;32m   1694\u001b[0m         \u001b[0margs\u001b[0m\u001b[0;34m,\u001b[0m\u001b[0;34m\u001b[0m\u001b[0;34m\u001b[0m\u001b[0m\n",
      "\u001b[0;32m~/anaconda3/envs/bla/lib/python3.7/site-packages/tensorflow_core/python/eager/function.py\u001b[0m in \u001b[0;36mcall\u001b[0;34m(self, ctx, args, cancellation_manager)\u001b[0m\n\u001b[1;32m    543\u001b[0m               \u001b[0minputs\u001b[0m\u001b[0;34m=\u001b[0m\u001b[0margs\u001b[0m\u001b[0;34m,\u001b[0m\u001b[0;34m\u001b[0m\u001b[0;34m\u001b[0m\u001b[0m\n\u001b[1;32m    544\u001b[0m               \u001b[0mattrs\u001b[0m\u001b[0;34m=\u001b[0m\u001b[0;34m(\u001b[0m\u001b[0;34m\"executor_type\"\u001b[0m\u001b[0;34m,\u001b[0m \u001b[0mexecutor_type\u001b[0m\u001b[0;34m,\u001b[0m \u001b[0;34m\"config_proto\"\u001b[0m\u001b[0;34m,\u001b[0m \u001b[0mconfig\u001b[0m\u001b[0;34m)\u001b[0m\u001b[0;34m,\u001b[0m\u001b[0;34m\u001b[0m\u001b[0;34m\u001b[0m\u001b[0m\n\u001b[0;32m--> 545\u001b[0;31m               ctx=ctx)\n\u001b[0m\u001b[1;32m    546\u001b[0m         \u001b[0;32melse\u001b[0m\u001b[0;34m:\u001b[0m\u001b[0;34m\u001b[0m\u001b[0;34m\u001b[0m\u001b[0m\n\u001b[1;32m    547\u001b[0m           outputs = execute.execute_with_cancellation(\n",
      "\u001b[0;32m~/anaconda3/envs/bla/lib/python3.7/site-packages/tensorflow_core/python/eager/execute.py\u001b[0m in \u001b[0;36mquick_execute\u001b[0;34m(op_name, num_outputs, inputs, attrs, ctx, name)\u001b[0m\n\u001b[1;32m     59\u001b[0m     tensors = pywrap_tensorflow.TFE_Py_Execute(ctx._handle, device_name,\n\u001b[1;32m     60\u001b[0m                                                \u001b[0mop_name\u001b[0m\u001b[0;34m,\u001b[0m \u001b[0minputs\u001b[0m\u001b[0;34m,\u001b[0m \u001b[0mattrs\u001b[0m\u001b[0;34m,\u001b[0m\u001b[0;34m\u001b[0m\u001b[0;34m\u001b[0m\u001b[0m\n\u001b[0;32m---> 61\u001b[0;31m                                                num_outputs)\n\u001b[0m\u001b[1;32m     62\u001b[0m   \u001b[0;32mexcept\u001b[0m \u001b[0mcore\u001b[0m\u001b[0;34m.\u001b[0m\u001b[0m_NotOkStatusException\u001b[0m \u001b[0;32mas\u001b[0m \u001b[0me\u001b[0m\u001b[0;34m:\u001b[0m\u001b[0;34m\u001b[0m\u001b[0;34m\u001b[0m\u001b[0m\n\u001b[1;32m     63\u001b[0m     \u001b[0;32mif\u001b[0m \u001b[0mname\u001b[0m \u001b[0;32mis\u001b[0m \u001b[0;32mnot\u001b[0m \u001b[0;32mNone\u001b[0m\u001b[0;34m:\u001b[0m\u001b[0;34m\u001b[0m\u001b[0;34m\u001b[0m\u001b[0m\n",
      "\u001b[0;31mKeyboardInterrupt\u001b[0m: "
     ]
    }
   ],
   "source": [
    "create_folder(dest_path)\n",
    "\n",
    "for patient in patients[:1]:\n",
    "    \n",
    "    patient_name = patient[len(data_path)+1:]#Patient name\n",
    "    print(patient_name)\n",
    "    \n",
    "    #create patient directory\n",
    "    create_folder(dest_path + patient_name)\n",
    "    \n",
    "    #for each image in patient\n",
    "    sub_images = glob(patient+'/*.svs')\n",
    "    for sub_image in sub_images:\n",
    "    \n",
    "        # convert to tif if needed\n",
    "        if not os.path.isfile(sub_image[:-4] + '.tif'):\n",
    "            img = openslide.OpenSlide(sub_name)\n",
    "            cv2.imwrite(sub_image_loc[:-4]+'.tif', np.array(img.read_region((0,0),0,img.level_dimensions[0])))\n",
    "        \n",
    "        sub_image_name = sub_image[len(patient)+1:]\n",
    "        dest_subimage = dest_path + patient_name + '/' + sub_image_name[:-4] + '/'\n",
    "        \n",
    "        #load image\n",
    "        img = cv2.imread(sub_image[:-4] + '.tif')\n",
    "        \n",
    "        #create subimage directory and class directories in it\n",
    "        create_folder(dest_subimage)\n",
    "        \n",
    "        create_folder(dest_subimage + 'Epithelial')\n",
    "        create_folder(dest_subimage + 'Lymphocyte')\n",
    "        create_folder(dest_subimage + 'Macrophage')\n",
    "        create_folder(dest_subimage + 'Neutrophil')\n",
    "        \n",
    "        epi_p, lym_p, mac_p, neu_p =  predict_all_classes(img, model_epi, model_lym, model_mac, model_neu)\n",
    "        \n",
    "        epi = create_mask(epi_p, size_limit=50)\n",
    "        lym = create_mask(lym_p, size_limit=50)\n",
    "        mac = create_mask(mac_p, size_limit=50)\n",
    "        neu = create_mask(neu_p, size_limit=50)\n",
    "        \n",
    "        if save_as_mat:\n",
    "            scipy.io.savemat(dest_subimage + 'Epithelial/' + sub_image_name[:-4] + '.mat', {epi.dtype.name: epi})\n",
    "            scipy.io.savemat(dest_subimage + 'Lymphocyte/' + sub_image_name[:-4] + '.mat', {lym.dtype.name: lym})\n",
    "            scipy.io.savemat(dest_subimage + 'Macrophage/' + sub_image_name[:-4] + '.mat', {mac.dtype.name: mac})\n",
    "            scipy.io.savemat(dest_subimage + 'Neutrophil/' + sub_image_name[:-4] + '.mat', {epi.dtype.name: neu})\n",
    "        else:\n",
    "            cv2.imwrite(dest_subimage + 'Epithelial/' + sub_image_name[:-4]+'.tif', epi)\n",
    "            cv2.imwrite(dest_subimage + 'Lymphocyte/' + sub_image_name[:-4]+'.tif', lym)\n",
    "            cv2.imwrite(dest_subimage + 'Macrophage/' + sub_image_name[:-4]+'.tif', mac)\n",
    "            cv2.imwrite(dest_subimage + 'Neutrophil/' + sub_image_name[:-4]+'.tif', neu)\n",
    "            "
   ]
  },
  {
   "cell_type": "code",
   "execution_count": 141,
   "metadata": {},
   "outputs": [],
   "source": [
    "def create_folder(path):\n",
    "    try:\n",
    "        os.mkdir(path)\n",
    "    except OSError:\n",
    "        print (\"Creation of the directory %s failed\" % path)"
   ]
  },
  {
   "cell_type": "code",
   "execution_count": 142,
   "metadata": {},
   "outputs": [],
   "source": [
    "# compare predictions \n",
    "def predict_all_classes(img, model_epi, model_lym, model_mac, model_neu):\n",
    "    pred_result_epi = collect_output(model_epi, img, stride=32, padding=8)\n",
    "    pred_result_lym = collect_output(model_lym, img, stride=32, padding=8)\n",
    "    pred_result_mac = collect_output(model_mac, img, stride=32, padding=8)\n",
    "    pred_result_neu = collect_output(model_neu, img, stride=32, padding=8)\n",
    "\n",
    "    epi_mask = np.ones(pred_result_epi.shape)\n",
    "    epi_mask[pred_result_epi < pred_result_lym] = 0\n",
    "    epi_mask[pred_result_epi < pred_result_neu] = 0\n",
    "    epi_mask[pred_result_epi < pred_result_mac] = 0\n",
    "\n",
    "    lym_mask = np.ones(pred_result_epi.shape)\n",
    "    lym_mask[pred_result_lym < pred_result_epi] = 0\n",
    "    lym_mask[pred_result_lym < pred_result_mac] = 0\n",
    "    lym_mask[pred_result_lym < pred_result_neu] = 0\n",
    "\n",
    "    mac_mask = np.ones(pred_result_epi.shape)\n",
    "    mac_mask[pred_result_mac < pred_result_epi] = 0\n",
    "    mac_mask[pred_result_mac < pred_result_lym] = 0\n",
    "    mac_mask[pred_result_mac < pred_result_neu] = 0\n",
    "\n",
    "    neu_mask = np.ones(pred_result_epi.shape)\n",
    "    neu_mask[pred_result_neu < pred_result_epi] = 0\n",
    "    neu_mask[pred_result_neu < pred_result_lym] = 0\n",
    "    neu_mask[pred_result_neu < pred_result_mac] = 0\n",
    "\n",
    "    pred_result_epi *= epi_mask\n",
    "    pred_result_lym *= lym_mask\n",
    "    pred_result_mac *= mac_mask\n",
    "    pred_result_neu *= neu_mask\n",
    "    \n",
    "    return pred_result_epi, pred_result_lym, pred_result_mac, pred_result_neu"
   ]
  },
  {
   "cell_type": "code",
   "execution_count": 143,
   "metadata": {},
   "outputs": [],
   "source": [
    "def create_mask(pred_result, size_limit=50):\n",
    "    bw = otsu_threshold(pred_result)\n",
    "    no_labels, labels, stats, _ = cv2.connectedComponentsWithStats(bw)\n",
    "    df = pd.DataFrame(stats, columns=['left', 'top', 'width', 'height', 'area'])\n",
    "    small = df.index[df['area'] < size_limit].tolist()\n",
    "    for sm in small: \n",
    "        labels[labels==sm] = 0\n",
    "    labels[labels>0] = 255\n",
    "    \n",
    "    return labels.astype('uint8')"
   ]
  },
  {
   "cell_type": "code",
   "execution_count": 146,
   "metadata": {},
   "outputs": [
    {
     "ename": "error",
     "evalue": "OpenCV(4.2.0) /Users/travis/build/skvark/opencv-python/opencv/modules/imgcodecs/src/loadsave.cpp:661: error: (-2:Unspecified error) could not find a writer for the specified extension in function 'imwrite_'\n",
     "output_type": "error",
     "traceback": [
      "\u001b[0;31m---------------------------------------------------------------------------\u001b[0m",
      "\u001b[0;31merror\u001b[0m                                     Traceback (most recent call last)",
      "\u001b[0;32m<ipython-input-146-6aee39e06d69>\u001b[0m in \u001b[0;36m<module>\u001b[0;34m\u001b[0m\n\u001b[0;32m----> 1\u001b[0;31m \u001b[0mcv2\u001b[0m\u001b[0;34m.\u001b[0m\u001b[0mimwrite\u001b[0m\u001b[0;34m(\u001b[0m\u001b[0;34m'bla.mat'\u001b[0m\u001b[0;34m,\u001b[0m \u001b[0mimg\u001b[0m\u001b[0;34m)\u001b[0m\u001b[0;34m\u001b[0m\u001b[0;34m\u001b[0m\u001b[0m\n\u001b[0m",
      "\u001b[0;31merror\u001b[0m: OpenCV(4.2.0) /Users/travis/build/skvark/opencv-python/opencv/modules/imgcodecs/src/loadsave.cpp:661: error: (-2:Unspecified error) could not find a writer for the specified extension in function 'imwrite_'\n"
     ]
    }
   ],
   "source": [
    "cv2.imwrite('bla.mat', img)"
   ]
  },
  {
   "cell_type": "code",
   "execution_count": 153,
   "metadata": {},
   "outputs": [],
   "source": [
    "tmp = {img.dtype.name: img}\n",
    "scipy.io.savemat('test.mat', tmp)"
   ]
  },
  {
   "cell_type": "code",
   "execution_count": 152,
   "metadata": {},
   "outputs": [
    {
     "data": {
      "text/plain": [
       "'uint8'"
      ]
     },
     "execution_count": 152,
     "metadata": {},
     "output_type": "execute_result"
    }
   ],
   "source": [
    "import scipy.io\n",
    "img.dtype.name"
   ]
  },
  {
   "cell_type": "code",
   "execution_count": 154,
   "metadata": {},
   "outputs": [
    {
     "data": {
      "text/plain": [
       "'/Users/macbook/Desktop/SKOLA/DP/Code/bla'"
      ]
     },
     "execution_count": 154,
     "metadata": {},
     "output_type": "execute_result"
    }
   ],
   "source": [
    "this_folder"
   ]
  },
  {
   "cell_type": "code",
   "execution_count": 156,
   "metadata": {},
   "outputs": [
    {
     "data": {
      "text/plain": [
       "<matplotlib.image.AxesImage at 0x1541575d0>"
      ]
     },
     "execution_count": 156,
     "metadata": {},
     "output_type": "execute_result"
    },
    {
     "data": {
      "image/png": "[encoded data removed]",
      "text/plain": [
       "<Figure size 432x288 with 1 Axes>"
      ]
     },
     "metadata": {
      "needs_background": "light"
     },
     "output_type": "display_data"
    }
   ],
   "source": [
    "f = img[:80, :120, :]\n",
    "plt.imshow(f)"
   ]
  },
  {
   "cell_type": "code",
   "execution_count": 163,
   "metadata": {},
   "outputs": [
    {
     "name": "stdout",
     "output_type": "stream",
     "text": [
      "128\n",
      "192\n"
     ]
    },
    {
     "data": {
      "text/plain": [
       "(192, 128, 3)"
      ]
     },
     "execution_count": 163,
     "metadata": {},
     "output_type": "execute_result"
    }
   ],
   "source": [
    "patch_size = 128\n",
    "if f.shape[0] < patch_size or f.shape[1] < patch_size:\n",
    "    shorter = min(f.shape[0], f.shape[1])\n",
    "    ratio = patch_size/shorter\n",
    "    dim0 = int(math.ceil(f.shape[0]*ratio))\n",
    "    dim1 = int(math.ceil(f.shape[1]*ratio))\n",
    "    f = cv2.resize(img, (dim0, dim1))"
   ]
  },
  {
   "cell_type": "code",
   "execution_count": 171,
   "metadata": {},
   "outputs": [
    {
     "data": {
      "text/plain": [
       "(1024, 1024)"
      ]
     },
     "execution_count": 171,
     "metadata": {},
     "output_type": "execute_result"
    }
   ],
   "source": [
    "old_shape = img.shape[0], img.shape[1]\n",
    "a = np.zeros((3,3))  \n",
    "\n",
    "if old_shape != -1: a = cv2.resize(a, old_shape)\n",
    "a.shape"
   ]
  },
  {
   "cell_type": "code",
   "execution_count": 170,
   "metadata": {},
   "outputs": [
    {
     "data": {
      "text/plain": [
       "(1024, 1024)"
      ]
     },
     "execution_count": 170,
     "metadata": {},
     "output_type": "execute_result"
    }
   ],
   "source": []
  },
  {
   "cell_type": "code",
   "execution_count": null,
   "metadata": {},
   "outputs": [],
   "source": []
  }
 ],
 "metadata": {
  "kernelspec": {
   "display_name": "Python 3",
   "language": "python",
   "name": "python3"
  },
  "language_info": {
   "codemirror_mode": {
    "name": "ipython",
    "version": 3
   },
   "file_extension": ".py",
   "mimetype": "text/x-python",
   "name": "python",
   "nbconvert_exporter": "python",
   "pygments_lexer": "ipython3",
   "version": "3.7.6"
  }
 },
 "nbformat": 4,
 "nbformat_minor": 1
}
